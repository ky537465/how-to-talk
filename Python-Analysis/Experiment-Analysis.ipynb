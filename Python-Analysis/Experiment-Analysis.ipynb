{
 "cells": [
  {
   "cell_type": "markdown",
   "id": "f0f09095-bba1-4569-83a2-182e7ee5a3be",
   "metadata": {},
   "source": [
    "# Experiment Analysis\n",
    "\n",
    "This notebook loads the (anonymized) human data from the behavioral experiment and analyzes it."
   ]
  },
  {
   "cell_type": "code",
   "execution_count": 1,
   "id": "cdcf9027-4a32-4cdc-b958-a6dd03e08797",
   "metadata": {},
   "outputs": [],
   "source": [
    "import copy\n",
    "import hashlib\n",
    "import numpy as np\n",
    "import pandas as pd\n",
    "import json\n",
    "import seaborn as sns\n",
    "import matplotlib.pylab as plt\n",
    "\n",
    "%load_ext autoreload\n",
    "%autoreload 2"
   ]
  },
  {
   "cell_type": "markdown",
   "id": "36d0c6db-ac4b-4900-a545-f0a3ea6735f0",
   "metadata": {},
   "source": [
    "## Load data and unpack conditions, etc"
   ]
  },
  {
   "cell_type": "code",
   "execution_count": 2,
   "id": "e2bd2dca-11a3-400c-aabb-15c90050dd6f",
   "metadata": {},
   "outputs": [],
   "source": [
    "trials = pd.read_csv(\"final_exp_human_trials.csv\")\n",
    "questions = pd.read_csv(\"final_human_exp_questions.csv\")"
   ]
  },
  {
   "cell_type": "code",
   "execution_count": 3,
   "id": "86c5c8e8-7596-4948-8081-f6b544bc0591",
   "metadata": {},
   "outputs": [],
   "source": [
    "# Sanity check randomizations\n",
    "\n",
    "if False:\n",
    "    print(\"\\nLog message counts:\")\n",
    "    print(questions.key.value_counts())\n",
    "    \n",
    "    print(\"\\nFull condition messages:\")\n",
    "    print(questions[questions.key == \"condition\"].value.value_counts())\n",
    "    \n",
    "    print(\"\\nTrial data files used:\")\n",
    "    print(questions[questions.key == \"trialDataFile\"].value.value_counts())\n",
    "\n",
    "    print(\"\\nFeature randomizations:\")\n",
    "    feature_randomizations = questions[questions.key == \"featureRandomization\"].value\n",
    "    feature_randomizations = feature_randomizations.apply(lambda x: json.loads(x))\n",
    "    feature_randomizations = pd.DataFrame(list(feature_randomizations.values))\n",
    "    for feature in [\"Green\", \"Red\", \"Blue\", \"Spotted\", \"Solid\", \"Striped\"]:\n",
    "        print(feature_randomizations[feature].value_counts())"
   ]
  },
  {
   "cell_type": "markdown",
   "id": "c70a16d9-3b68-4e62-afc5-45800991044e",
   "metadata": {},
   "source": [
    "## Read in trial data"
   ]
  },
  {
   "cell_type": "code",
   "execution_count": 4,
   "id": "845a502b-7d51-455b-be4a-d7f32d18d6ef",
   "metadata": {},
   "outputs": [
    {
     "data": {
      "text/plain": [
       "survey-html-form        3780\n",
       "html-button-response    1143\n",
       "survey-likert            607\n",
       "instructions             231\n",
       "survey-multi-choice      186\n",
       "survey-text              105\n",
       "Name: trial_type, dtype: int64"
      ]
     },
     "execution_count": 4,
     "metadata": {},
     "output_type": "execute_result"
    }
   ],
   "source": [
    "# Load data, filter out debug, hash ID\n",
    "\n",
    "# Read JSON data into Python objects\n",
    "trials[\"data\"] = trials.value.apply(lambda x: json.loads(x))\n",
    "\n",
    "for field in [\"rt\", \"trial_type\"]:\n",
    "    trials[field] = trials.data.apply(lambda x: x.get(field))\n",
    "    \n",
    "trials.trial_type.value_counts()"
   ]
  },
  {
   "cell_type": "code",
   "execution_count": 5,
   "id": "055a2357-e96e-41b6-9396-be47d65f75a9",
   "metadata": {},
   "outputs": [
    {
     "name": "stdout",
     "output_type": "stream",
     "text": [
      "Pre-Quiz Count: 119 participants.\n"
     ]
    }
   ],
   "source": [
    "print(\"Pre-Quiz Count: {} participants.\".format(trials.workerid.nunique()))"
   ]
  },
  {
   "cell_type": "markdown",
   "id": "42b662d7-7e33-409c-be6b-b1927e8b341d",
   "metadata": {},
   "source": [
    "# Experiment Duration"
   ]
  },
  {
   "cell_type": "code",
   "execution_count": 6,
   "id": "749b4fcf-2f7b-4d9a-94aa-217a8454f85d",
   "metadata": {},
   "outputs": [
    {
     "data": {
      "text/plain": [
       "count    119.000000\n",
       "mean      18.525471\n",
       "std        7.624343\n",
       "min        3.082400\n",
       "25%       12.996092\n",
       "50%       17.425250\n",
       "75%       22.826625\n",
       "max       41.320933\n",
       "Name: time_elapsed, dtype: float64"
      ]
     },
     "execution_count": 6,
     "metadata": {},
     "output_type": "execute_result"
    },
    {
     "data": {
      "image/png": "[encoded data removed]",
      "text/plain": [
       "<Figure size 432x288 with 1 Axes>"
      ]
     },
     "metadata": {
      "needs_background": "light"
     },
     "output_type": "display_data"
    }
   ],
   "source": [
    "trials[\"time_elapsed\"] = trials.data.apply(lambda x: x.get(\"time_elapsed\"))\n",
    "minutes_in_experiment = trials.groupby(\"workerid\").time_elapsed.max() / 1000 / 60\n",
    "\n",
    "sns.histplot(minutes_in_experiment, bins=10)\n",
    "plt.title(\"Minutes in experiment (total)\")\n",
    "\n",
    "minutes_in_experiment.describe()"
   ]
  },
  {
   "cell_type": "markdown",
   "id": "f1ec4d67-9ebd-4ab1-b0f8-d03e026f03b5",
   "metadata": {},
   "source": [
    "## Quiz\n",
    "How many attempts do people take?\n",
    "What fraction pass?\n",
    "Which pages are \"hardest\"?"
   ]
  },
  {
   "cell_type": "code",
   "execution_count": 7,
   "id": "09be5a56-34e5-4ad2-823a-1b35a3a83a97",
   "metadata": {},
   "outputs": [
    {
     "name": "stderr",
     "output_type": "stream",
     "text": [
      "/var/folders/gv/42lb0z1j4dxf3wsk74nrxwx80000gn/T/ipykernel_60670/1755126429.py:2: SettingWithCopyWarning: \n",
      "A value is trying to be set on a copy of a slice from a DataFrame.\n",
      "Try using .loc[row_indexer,col_indexer] = value instead\n",
      "\n",
      "See the caveats in the documentation: https://pandas.pydata.org/pandas-docs/stable/user_guide/indexing.html#returning-a-view-versus-a-copy\n",
      "  quizResults[\"passed_quiz\"] = quizResults.key.apply(lambda x: True if x == \"quizPassed\" else False)\n"
     ]
    },
    {
     "data": {
      "text/plain": [
       "True     104\n",
       "False     14\n",
       "Name: passed_quiz, dtype: int64"
      ]
     },
     "execution_count": 7,
     "metadata": {},
     "output_type": "execute_result"
    }
   ],
   "source": [
    "quizResults = questions[questions.key.str.contains('quizPassed') | questions.key.str.contains('quizFailed')]\n",
    "quizResults[\"passed_quiz\"] = quizResults.key.apply(lambda x: True if x == \"quizPassed\" else False)\n",
    "\n",
    "quizResults = quizResults[[\"workerid\", \"passed_quiz\"]].set_index(\"workerid\")\n",
    "\n",
    "quizResults.passed_quiz.value_counts()"
   ]
  },
  {
   "cell_type": "code",
   "execution_count": 8,
   "id": "cd060a27-a5cd-4310-967e-5cc0e2bdf339",
   "metadata": {},
   "outputs": [],
   "source": [
    "quizAttempts = questions[questions.key.str.contains('quizAttempt')]\n",
    "quizAttempts = quizAttempts[quizAttempts.workerid.isin(trials.workerid.unique())]\n",
    "\n",
    "quizAttempts[\"data\"] = quizAttempts.value.apply(lambda x: json.loads(x))\n",
    "quizAttempts[\"correct\"] = quizAttempts[\"data\"].apply(lambda x: x[\"correct\"])\n",
    "quizAttempts[\"total\"] = quizAttempts[\"data\"].apply(lambda x: x[\"total\"])\n",
    "quizAttempts[\"cum_correct\"] = quizAttempts[\"correct\"] + 14 - quizAttempts[\"total\"]\n",
    "quizAttempts[\"passed\"] = quizAttempts[\"data\"].apply(lambda x: x[\"total\"] == x[\"correct\"])\n",
    "\n",
    "if False:\n",
    "    quizAttempts.groupby(\"key\").cum_correct.agg([\"size\", \"mean\", \"std\"])"
   ]
  },
  {
   "cell_type": "code",
   "execution_count": 9,
   "id": "0c03d608-6c5f-4de9-b9fc-6a3e0014e8ba",
   "metadata": {},
   "outputs": [],
   "source": [
    "participant_quiz_results = quizAttempts.groupby(\"workerid\").size()\n",
    "\n",
    "trials = trials.set_index(\"workerid\").merge(participant_quiz_results.to_frame(name=\"quiz_attempts\"), left_index=True, right_index=True, how=\"left\").reset_index()"
   ]
  },
  {
   "cell_type": "code",
   "execution_count": 10,
   "id": "67fa8d01-74b5-4a4f-934e-4cbb4d11307c",
   "metadata": {},
   "outputs": [
    {
     "name": "stderr",
     "output_type": "stream",
     "text": [
      "/var/folders/gv/42lb0z1j4dxf3wsk74nrxwx80000gn/T/ipykernel_60670/3177066139.py:3: SettingWithCopyWarning: \n",
      "A value is trying to be set on a copy of a slice from a DataFrame.\n",
      "Try using .loc[row_indexer,col_indexer] = value instead\n",
      "\n",
      "See the caveats in the documentation: https://pandas.pydata.org/pandas-docs/stable/user_guide/indexing.html#returning-a-view-versus-a-copy\n",
      "  quiz_trials[\"total\"] = quiz_trials.data.apply(lambda x: int(x.get(\"total\")))\n",
      "/var/folders/gv/42lb0z1j4dxf3wsk74nrxwx80000gn/T/ipykernel_60670/3177066139.py:4: SettingWithCopyWarning: \n",
      "A value is trying to be set on a copy of a slice from a DataFrame.\n",
      "Try using .loc[row_indexer,col_indexer] = value instead\n",
      "\n",
      "See the caveats in the documentation: https://pandas.pydata.org/pandas-docs/stable/user_guide/indexing.html#returning-a-view-versus-a-copy\n",
      "  quiz_trials[\"correct\"] = quiz_trials.data.apply(lambda x: int(x.get(\"correct\")))\n",
      "/var/folders/gv/42lb0z1j4dxf3wsk74nrxwx80000gn/T/ipykernel_60670/3177066139.py:5: SettingWithCopyWarning: \n",
      "A value is trying to be set on a copy of a slice from a DataFrame.\n",
      "Try using .loc[row_indexer,col_indexer] = value instead\n",
      "\n",
      "See the caveats in the documentation: https://pandas.pydata.org/pandas-docs/stable/user_guide/indexing.html#returning-a-view-versus-a-copy\n",
      "  quiz_trials[\"wrong\"] = quiz_trials.total - quiz_trials.correct\n",
      "/var/folders/gv/42lb0z1j4dxf3wsk74nrxwx80000gn/T/ipykernel_60670/3177066139.py:7: SettingWithCopyWarning: \n",
      "A value is trying to be set on a copy of a slice from a DataFrame.\n",
      "Try using .loc[row_indexer,col_indexer] = value instead\n",
      "\n",
      "See the caveats in the documentation: https://pandas.pydata.org/pandas-docs/stable/user_guide/indexing.html#returning-a-view-versus-a-copy\n",
      "  quiz_trials[\"response\"] = quiz_trials.data.apply(lambda x: x.get(\"response\"))\n",
      "/var/folders/gv/42lb0z1j4dxf3wsk74nrxwx80000gn/T/ipykernel_60670/3177066139.py:9: SettingWithCopyWarning: \n",
      "A value is trying to be set on a copy of a slice from a DataFrame.\n",
      "Try using .loc[row_indexer,col_indexer] = value instead\n",
      "\n",
      "See the caveats in the documentation: https://pandas.pydata.org/pandas-docs/stable/user_guide/indexing.html#returning-a-view-versus-a-copy\n",
      "  quiz_trials[\"first_attempt\"] = quiz_trials.num <= 12\n"
     ]
    }
   ],
   "source": [
    "quiz_trials = trials[trials.data.apply(lambda x: x.get(\"total\") is not None)]\n",
    "\n",
    "quiz_trials[\"total\"] = quiz_trials.data.apply(lambda x: int(x.get(\"total\")))\n",
    "quiz_trials[\"correct\"] = quiz_trials.data.apply(lambda x: int(x.get(\"correct\")))\n",
    "quiz_trials[\"wrong\"] = quiz_trials.total - quiz_trials.correct\n",
    "\n",
    "quiz_trials[\"response\"] = quiz_trials.data.apply(lambda x: x.get(\"response\"))\n",
    "\n",
    "quiz_trials[\"first_attempt\"] = quiz_trials.num <= 12\n",
    "wrong_answers = quiz_trials[quiz_trials.wrong >=1]"
   ]
  },
  {
   "cell_type": "markdown",
   "id": "91749a47-1d2b-4ce3-9c50-faf8cd551c3a",
   "metadata": {
    "tags": []
   },
   "source": [
    "## Exit Survey"
   ]
  },
  {
   "cell_type": "code",
   "execution_count": 11,
   "id": "1c03e75c-38e8-4cb9-9ea9-7fdad83afe51",
   "metadata": {},
   "outputs": [],
   "source": [
    "exit_survey = trials[trials.trial_type == 'survey-text']"
   ]
  },
  {
   "cell_type": "code",
   "execution_count": 12,
   "id": "0256fec7-2c45-4f04-8396-35641a8175e4",
   "metadata": {},
   "outputs": [
    {
     "name": "stdout",
     "output_type": "stream",
     "text": [
      "Experiment Objective:\n",
      "\n",
      "['to ensure tourists chose tasty mushrooms'\n",
      " 'to provide them with the knowledge of the tatsiest mushrooms'\n",
      " 'To get them as many tasty mushrooms as possible'\n",
      " 'For tourists to collect the tastiest mushrooms possible each time.'\n",
      " 'maximise the score' 'To get them the best'\n",
      " 'Get them to pick the best mushrooms'\n",
      " 'TO DIRECT PEOPLE TO THE MOST ENJOYYABLE TO EAT'\n",
      " 'to help them work out the tasty mushrooms'\n",
      " 'to help them pick the best mushroom' 'select good tasting mushrooms'\n",
      " 'To make sure that the tourists picked the highest value mushrooms.'\n",
      " 'To help them pick good mushrooms.'\n",
      " 'To get teh highest possible taste in mushrooms for the people'\n",
      " 'To get the tourists to pick the tastiest mushrooms'\n",
      " 'Help the tourists chose the tastiest mushrooms'\n",
      " 'To make help the tourist pick the tastiest mushroom'\n",
      " 'to inform tourists about mushrooms'\n",
      " 'give out the best flavours to attract more tourists'\n",
      " 'To give the customer the best tasting mushroom'\n",
      " 'To teach them to avoid the bad mushrooms more so'\n",
      " 'I had to get the tourists to pick tasty mushrooms' 'to make them happy'\n",
      " 'Help them find the best mushrooms'\n",
      " 'inform the visitors how to pick the tastiest mushrooms'\n",
      " 'To get them to pick the tastiest mushrooms.'\n",
      " 'My objective was to help the tourists pick'\n",
      " 'To help them pick good mushrooms.'\n",
      " 'To help people get the tastiest mushrooms'\n",
      " 'Maximise their tastiness score.' 'help them pick good mushrooms'\n",
      " 'Help them pick the best tasting mushrooms'\n",
      " 'to try and teach as much as possible'\n",
      " 'To help them pick the tastiest mushroom'\n",
      " 'To help them get the most points/tastiest mushrooms'\n",
      " 'To make sure tourist pick tasty mushrooms.'\n",
      " 'To help the tourist avoid the least tasty mushrooms'\n",
      " 'helping the tourists pick the tastiest mushrooms'\n",
      " 'to help pick tasty mushrooms' 'maximise tastiness'\n",
      " 'to help them to pick the most tasty mushroom'\n",
      " 'Help tourists to pick tasty mushrooms'\n",
      " 'To help the tourists pick the tastiest mushrooms.'\n",
      " 'to give them the tastiest mushrooms'\n",
      " 'To help tourists pick the best mushrooms' 'asda'\n",
      " 'to help make them pick the tasty mushrooms'\n",
      " 'To help the tourists pick good mushrooms. '\n",
      " 'get them to pick the tastiest mushrooms'\n",
      " 'To educate tourists on  how to identofy and pick the tastiest mushrooms.'\n",
      " 'For the people to find the tastiest mushrooms'\n",
      " 'To guide the tourists to pick the tastiest mushrooms'\n",
      " 'To ensure customers took the tastiest mushrooms'\n",
      " 'to help guide the tourist pick the best mushrooms'\n",
      " 'To help the tourists pick the tastiest mushrooms.'\n",
      " 'choose the best value' 'Make sure the tourists gets the best mushrooms.'\n",
      " 'To help the people pick the tastiest mushrooms'\n",
      " 'To help the tourist find the tastiest mushrooms'\n",
      " 'To help visitors pick tasty mushrooms'\n",
      " 'To help visitors pick the best mushrooms'\n",
      " 'To help tourists find tasty mushrooms in the patches'\n",
      " 'To get them to learn to pick the best mushrooms'\n",
      " 'to help them pick good mushrooms'\n",
      " 'To maximise the number of blue mushrooms the tourist would choose.'\n",
      " 'To help them gain as many tasty mushrooms as possible'\n",
      " 'To help them avoid the worst tastes and try to guide them towards tasty mushrooms'\n",
      " 'To get the tastiest mushrooms' 'help people pick tasty mushrooms'\n",
      " 'To guide tourists to picking good mushrooms'\n",
      " 'to advise the tastiest fungi to eat' 'help visitors pick good mushrooms'\n",
      " 'To help the customers pick the best mushrooms'\n",
      " 'To help the tourists choose the most tasty mushroom in the most easiest way possible'\n",
      " 'Help tourists pick the good (highest value) mushrooms'\n",
      " 'To ensure the tourist get good mushroom'\n",
      " 'To guide them to make the best choices.'\n",
      " 'to help them pick the tastiest mushrooms' 'add the most value'\n",
      " 'guide tourists to the tasty mushrooms'\n",
      " 'to help them pick good mushrooms throughout their visit'\n",
      " 'To help the tourists pick the mushrooms with the highest points'\n",
      " 'To make sure they picked the tastiest mushrooms.'\n",
      " 'to help tourists pick the tasty mushrooms'\n",
      " 'To help pick the best mushroom '\n",
      " 'To help the customers decide which mushrooms are tastiest.'\n",
      " 'To be consistent' 'to get max points' 'to instruct'\n",
      " 'help them pick the tastiest mushrooms' 'maximize taste = points'\n",
      " 'To help the tourists to identify tasty mushrooms.'\n",
      " 'To guide tourists to the best tastiest mushrooms'\n",
      " 'To help them pick good mushrooms'\n",
      " 'to help them choose the best mushrooms' 'get the most points'\n",
      " 'To help them pick the tastiest mushrooms'\n",
      " 'I did not give them the chance to really choose by themselves.'\n",
      " 'to help them pick the tastiest mushrooms'\n",
      " 'To help them pick the best mushrooms possible'\n",
      " 'To make them choose good ones'\n",
      " 'to help people pick or learn about the best mushrooms'\n",
      " 'To ensure that my guests took the mushrooms with the highest points and therefore would be the tastiest'\n",
      " 'To do my best to help the tourists select the tastiest mushroom'\n",
      " 'To correctly guide them or teach them to pick the tasty mushrooms from each patch.']\n",
      "\n",
      "Participant Strategies:\n",
      "\n",
      "['depending on which option could give them more info on the mushrooms'\n",
      " 'based on the number of patches they would visit'\n",
      " 'I looked at what mushrooms they had and gave the best advice '\n",
      " 'If there was more than one patch they visited - the principle could be applied to more than one patch.'\n",
      " 'always tried to teach them, if possible' 'Just chose randomly'\n",
      " 'Number of patches and if there was the best possible combination there'\n",
      " 'BASED ON WHAT WOULD TASTE THE BEST'\n",
      " 'i prefer to teach, it makes it a learning experience'\n",
      " 'i looked at the 3 visible mushrooms'\n",
      " 'depending on how many pathes and if they had a good choice on the visable patch'\n",
      " 'Depending on the number of potential picks the tourist would have. If there were many patches, I would choose to teach them.'\n",
      " 'If there was one patch I instructed and if there was more than one patch I taught.'\n",
      " 'If they were going to choose their own - I taught them - if it was a simple choice of 3 then I instructed to get the highest score'\n",
      " 'If it was just one patch then I woujld instruct but if there was more then I tended to teach as the other patches are unknow.'\n",
      " 'If they were visiting more than one patch I chose to teach them'\n",
      " 'If a tourist had multiple patches then i tried to teach them'\n",
      " 'just varied for a change of instructin to be honest'\n",
      " 'according to taste score i wanted to give most tasty ones'\n",
      " 'Varied depending on what was dislayed'\n",
      " 'i instructed based on if the texture and colour gave the best mushroom, if there was more bad mushrooms i would teach and the solid texture.'\n",
      " 'I tried to give them the instructions to have better chances to pick tasty mushrooms'\n",
      " 'which one I could remember'\n",
      " 'If they are only visiting one patch, and there is a clear best option, I struct them which to pick'\n",
      " 'figured the best bet would be to teach them what is worth the most and what is worth the least, so they can make informed decisions'\n",
      " 'If there was more than one patch I gave them the highest rated info.'\n",
      " 'I chose depending on the given scenario'\n",
      " 'Instruct if only visiting one patch otherwise teach.'\n",
      " \"Basically on the current mushrooms and the amount of patches. If there was a green or two and no blues, I'd teach against green. If one patch and blue, I'd instruct. \"\n",
      " 'Depended on whether they were going to more where teaching would aid them further, and whether in teaching you could guide their first choice too.'\n",
      " 'guessed'\n",
      " 'Chose instruct if they were only visiting one patch; more than i decided to teach'\n",
      " 'depending what the mushrooms were'\n",
      " 'I chose to instruct if there was only one patch they were visiting and teach if there were more patches to visit'\n",
      " 'Depending on how many patches they would be going to'\n",
      " 'I instructed tourists because I felt it was easierfor the tourists. I taught some tourists that reappeared so they could know what to pick without me.'\n",
      " 'Teach if more than one patch visited'\n",
      " 'depending on how many patches they had to visit'\n",
      " 'by which i thought would get the tastiet mushrrom'\n",
      " 'the value of the visibel mushrooms versus potential value of not visible mushrooms'\n",
      " 'see how many patches they are visiting' 'Teaching is more polite'\n",
      " 'I instructed the tourists when there was a clear tastiest mushroom on offer. I taught the tourists when the selection was a little ambiguous.'\n",
      " 'if there were unseen patches chose to teach them'\n",
      " 'If they had one or more colour/pattern I would teach them what those meant for their rating but if they had no high scoring mushrooms I would instruct them to pick the highest rated one'\n",
      " 'asda' 'i advised them which had the highest points'\n",
      " 'in case of multiple patches, if blue-spotted exists in the first one, then I instruct them to choose it, otherwise I will teach them that blue is the most important feature so they focus on it in the other patches.'\n",
      " 'tried to share what would allow them to deduce other features'\n",
      " 'Based on the mushrooms present. More teaching was given as the mushrooms of any kind could spawn in other patches. Guidence was given to ensure no tourist recieved a bad tasting mushroom.'\n",
      " 'If there was only one patch, then it made sense to instruct them, if more than one patch then teach them to always go for blue'\n",
      " 'By the lot of the mushrooms'\n",
      " 'If there was a blue solid mushroom, always instruct.'\n",
      " 'Based on the mushrooms that were already shown'\n",
      " 'I considered if they were visiting other patches of mushrooms. '\n",
      " 'What seemed best'\n",
      " 'If there is patch they need to go on their own, then I chose to teach them. But just instruct them when I accompany them.'\n",
      " 'If they were visiting more than one patch'\n",
      " 'Instruct when only one patch, teach when more than one'\n",
      " 'I was trying to deduct what one piece of information would be most helpful to them to make sure they pick tasty mushrooms overall'\n",
      " 'If they were going to visit more patches i would teach. If they were only visiting one i would instruct'\n",
      " 'I liked pointing them to a specific mushroom that I knew was the tastiest.'\n",
      " 'If there was a big enough difference, I would teach to go for green and stripe if present'\n",
      " 'If it was blue stripe i instructed them'\n",
      " 'I looked at what was available, and tried to consider what a reasonable person might infer from the instructions. It is possible that the tourist could infer that the value of stripes, for example, was high (when directing a tourist to a blue striped mushroom) so I seldom chose direct instruction.'\n",
      " 'Entirely by the number of patches they would visit'\n",
      " 'I tried to think of information that would help them steer clear or gravitate towards things most usefully and rule out many choices'\n",
      " 'it depended how may patches they were visiting.  I could only go to one so I had to teach them how to pick the best mushrooms'\n",
      " 'teach'\n",
      " 'When I knew the mushrooms available I instructed but when I wasn;t sure what was in the other patches I taught them instead.'\n",
      " 'Based on available choices to them'\n",
      " 'If more than one patch and visible patch had sample selection '\n",
      " 'If they had multiple patches, teach them so they can apply logic to those. If there is only one patch, instruct them to make sure they get the best outcome'\n",
      " 'I chose the easier option by telling them which mushroom to choose'\n",
      " 'If there was one patch, I would instruct. If there were more than one patch, I would teach.'\n",
      " 'Depend on how many patch they visit and option available for first patch'\n",
      " 'The highest bonus and how informative it would be to their decisions'\n",
      " 'I thought the information ws betterso tey could know for later'\n",
      " 'depending on how many. patches'\n",
      " 'depending on how many patches they were visiting, if visiting only 1 then instruct them.'\n",
      " 'Depends if they are choosing from multiple patches or a single patch of mushroms'\n",
      " 'If they had a mushroom worth 3 I instructed. If not I taught'\n",
      " 'If they would be visiting more than one patch I taught them. '\n",
      " 'Just did what i though made sense' 'Based on colour '\n",
      " 'I almost always chose to instruct tourists because it seemed like the easiest option.'\n",
      " 'random if only negatives on view' 'to guide them more' 'random'\n",
      " 'depended on how many patches' 'depended on mix in a patch'\n",
      " 'If they were going to be picking from further patches, I chose to teach them to give them a better chance of finding good mushrooms. And also if teaching would guarantee they picked the best mushroom from just one patch.'\n",
      " 'Preferred teach choices'\n",
      " 'I chose teach if there was more than 1 patch to choose from so they could work it out for themselves'\n",
      " 'If they were going to multiple fields or not'\n",
      " 'just went with what felt most appropriate'\n",
      " 'Depending on how many patches they visited'\n",
      " 'I was instructing themall the time as I knew the colours and numbers.'\n",
      " 'unsure' 'Instruct if just one patch, teach if visiting more than one'\n",
      " 'Depending upon the easiness for them to understand while picking.'\n",
      " 'because of the number of patches they were going to'\n",
      " 'I went for the best possible points'\n",
      " 'If there was more than one mushroom patch I would teach rather than instruct'\n",
      " 'I instructed them when they visited only one patch and teach them if they visited more than one.']\n",
      "\n",
      "Anything Confusing:\n",
      "\n",
      "['no' 'no'\n",
      " \"The third question of the first set of questions to which the answer was 'all of the above' I don't remember reading that information\"\n",
      " 'Yes, I got initially mixed up with the colours by themselves and solids.'\n",
      " 'n/a' 'No' 'N/A'\n",
      " 'INSTRUCTIONS REGARDING VALUES COULD HAVE BEEN CLEARER, BUT WELL PRESENTED OVERALL'\n",
      " 'no' 'no' 'NO' 'No' 'no' 'no - it was fun' 'No' 'No' 'no'\n",
      " 'not sure i think i got it right!' 'none' 'no' 'no, it was clear.' 'no'\n",
      " 'nope'\n",
      " \"I wasn't totally sure if the visible mushroom patch was an indication of how common certain types of mushroom would be\"\n",
      " 'no' 'No' 'no' 'No' 'No' 'No' 'no' 'No, the instructions were excellent!'\n",
      " 'no' 'no' 'No' 'No.' 'No' 'no' 'no' 'No' 'no' 'no' 'No' 'no' 'No' 'asd'\n",
      " 'none' 'no' 'no' 'None. Very clear and concise.' 'No' 'NO' 'NA' 'N/A'\n",
      " 'No. ' 'no' 'no' 'No' 'None' 'No' 'no' 'No' 'No' 'no'\n",
      " 'No, everything was really clear.' 'No' 'Nothing' 'o' 'no ' 'No' 'no'\n",
      " 'No' 'No' 'no' \"I didn't understand the goal of the experiment. \" 'No'\n",
      " 'No' 'No' 'no' 'no' 'No' 'No' 'Nothing at all. ' 'no' 'no' 'None' 'no'\n",
      " 'no' 'no' 'no' 'no' 'No' 'No I enjoyed the challenge ' 'No' 'no' 'no'\n",
      " 'Sometimes unsure on whether to teach or instruct'\n",
      " 'Nothing was unclear or confusing. All instructions were clear enough.'\n",
      " 'no' 'N/A' 'No' 'no' 'No, it was fine' 'No' 'No']\n",
      "\n",
      "Misc Feedback:\n",
      "\n",
      "['no' 'no' 'None, thank you' 'Just to make the above a little clearer. '\n",
      " 'n/a' 'No' 'N/A'\n",
      " 'WELL PRESENTED AND GOOD USE OF PICTURES / TABULAR PRESENTATION.  MAYBE PRACTICE WOULD BE GOOD WITH OUTCOME TO SHOW HOW IT WORKS,'\n",
      " 'interesting study!' 'no' 'NO' 'No' 'n/a'\n",
      " 'I liked this a great deal - thank you' 'No' 'No'\n",
      " 'Thanks for the opportunity' 'no' 'none' 'was interesting'\n",
      " 'no, but i did enjoy this study. It was fun.' 'no' 'nope!' 'No'\n",
      " 'no further comments' 'No' 'no' 'No' 'Hope my answers are helpful ' 'No'\n",
      " 'no' 'This was a very enjoyable experiment. Thank you.' 'no' 'no' 'No'\n",
      " 'None.' 'No' 'none' 'no' 'good fun, thanks!' 'no' 'no thanks'\n",
      " 'Fun study!' 'no' '-' 'ad' 'none' 'no' 'NO' 'A Fun experiment.'\n",
      " 'Thanks for the study, it was a lot of fun.' 'Interesting task' 'NA'\n",
      " 'n/a' 'No.' 'no sorry, was fun' 'no' 'None' 'It was fun, thank you' 'No'\n",
      " 'no' 'No' 'None, it was fun though.' 'none'\n",
      " \"I thought it was a lot of fun to work through this, although I have no idea what information you'll get from it!\"\n",
      " 'It was extremely fun and i would love to participate in similar experiments you run in the future.'\n",
      " 'I enjoyed this task' 'no' 'no' 'No' 'no' 'thanks' 'No'\n",
      " 'interesting study about learning'\n",
      " 'I also would like to know whether my answers were correct.' 'No' 'No.'\n",
      " 'No' 'no' 'no' 'Its pretty interesting :)' 'This was fun'\n",
      " 'Nothing at all. ' 'no' 'no' 'No.' 'No, it was actually enjoyable' 'no'\n",
      " 'no' 'none' 'none' 'No' 'Loved the test ' 'None' 'no' 'no' 'No'\n",
      " 'It was an enjoyable task.' 'no' 'N/A' 'No' 'no' 'No it was all good'\n",
      " 'No' 'No, thank you.']\n"
     ]
    },
    {
     "name": "stderr",
     "output_type": "stream",
     "text": [
      "/var/folders/gv/42lb0z1j4dxf3wsk74nrxwx80000gn/T/ipykernel_60670/1776341517.py:2: SettingWithCopyWarning: \n",
      "A value is trying to be set on a copy of a slice from a DataFrame.\n",
      "Try using .loc[row_indexer,col_indexer] = value instead\n",
      "\n",
      "See the caveats in the documentation: https://pandas.pydata.org/pandas-docs/stable/user_guide/indexing.html#returning-a-view-versus-a-copy\n",
      "  exit_survey[question] = exit_survey.data.apply(lambda x: x[\"response\"][question])\n",
      "/var/folders/gv/42lb0z1j4dxf3wsk74nrxwx80000gn/T/ipykernel_60670/1776341517.py:2: SettingWithCopyWarning: \n",
      "A value is trying to be set on a copy of a slice from a DataFrame.\n",
      "Try using .loc[row_indexer,col_indexer] = value instead\n",
      "\n",
      "See the caveats in the documentation: https://pandas.pydata.org/pandas-docs/stable/user_guide/indexing.html#returning-a-view-versus-a-copy\n",
      "  exit_survey[question] = exit_survey.data.apply(lambda x: x[\"response\"][question])\n",
      "/var/folders/gv/42lb0z1j4dxf3wsk74nrxwx80000gn/T/ipykernel_60670/1776341517.py:2: SettingWithCopyWarning: \n",
      "A value is trying to be set on a copy of a slice from a DataFrame.\n",
      "Try using .loc[row_indexer,col_indexer] = value instead\n",
      "\n",
      "See the caveats in the documentation: https://pandas.pydata.org/pandas-docs/stable/user_guide/indexing.html#returning-a-view-versus-a-copy\n",
      "  exit_survey[question] = exit_survey.data.apply(lambda x: x[\"response\"][question])\n",
      "/var/folders/gv/42lb0z1j4dxf3wsk74nrxwx80000gn/T/ipykernel_60670/1776341517.py:2: SettingWithCopyWarning: \n",
      "A value is trying to be set on a copy of a slice from a DataFrame.\n",
      "Try using .loc[row_indexer,col_indexer] = value instead\n",
      "\n",
      "See the caveats in the documentation: https://pandas.pydata.org/pandas-docs/stable/user_guide/indexing.html#returning-a-view-versus-a-copy\n",
      "  exit_survey[question] = exit_survey.data.apply(lambda x: x[\"response\"][question])\n"
     ]
    }
   ],
   "source": [
    "for question in [\"experiment_objective\", \"participant_strategy\", \"experiment_confusing\", \"misc_feedback\"]:\n",
    "    exit_survey[question] = exit_survey.data.apply(lambda x: x[\"response\"][question])\n",
    "\n",
    "print(\"Experiment Objective:\\n\")\n",
    "print(exit_survey.experiment_objective.values)\n",
    "\n",
    "print(\"\\nParticipant Strategies:\\n\")\n",
    "print(exit_survey.participant_strategy.values)\n",
    "\n",
    "print(\"\\nAnything Confusing:\\n\")\n",
    "print(exit_survey.experiment_confusing.values)\n",
    "\n",
    "print(\"\\nMisc Feedback:\\n\")\n",
    "print(exit_survey.misc_feedback.values)"
   ]
  },
  {
   "cell_type": "markdown",
   "id": "afea41f6-9a76-4602-ab62-9e8ef0df8331",
   "metadata": {
    "tags": []
   },
   "source": [
    "# Catch Trials\n",
    "Do people get these right?  \n",
    "What is % correct by person?   \n",
    "By context / question? (are some harder than others?)"
   ]
  },
  {
   "cell_type": "code",
   "execution_count": 13,
   "id": "2f7739d4-9cd3-445f-917c-7405c922109e",
   "metadata": {},
   "outputs": [
    {
     "name": "stderr",
     "output_type": "stream",
     "text": [
      "/var/folders/gv/42lb0z1j4dxf3wsk74nrxwx80000gn/T/ipykernel_60670/3387171192.py:4: SettingWithCopyWarning: \n",
      "A value is trying to be set on a copy of a slice from a DataFrame.\n",
      "Try using .loc[row_indexer,col_indexer] = value instead\n",
      "\n",
      "See the caveats in the documentation: https://pandas.pydata.org/pandas-docs/stable/user_guide/indexing.html#returning-a-view-versus-a-copy\n",
      "  catch_trials[\"belief_model\"] = catch_trials.data.apply(lambda x: 1 if x.get(\"belief\") else 0)\n",
      "/var/folders/gv/42lb0z1j4dxf3wsk74nrxwx80000gn/T/ipykernel_60670/3387171192.py:5: SettingWithCopyWarning: \n",
      "A value is trying to be set on a copy of a slice from a DataFrame.\n",
      "Try using .loc[row_indexer,col_indexer] = value instead\n",
      "\n",
      "See the caveats in the documentation: https://pandas.pydata.org/pandas-docs/stable/user_guide/indexing.html#returning-a-view-versus-a-copy\n",
      "  catch_trials[\"response\"] = catch_trials.data.apply(lambda x: bool(int(x['response'][\"utterance\"])))\n",
      "/var/folders/gv/42lb0z1j4dxf3wsk74nrxwx80000gn/T/ipykernel_60670/3387171192.py:6: SettingWithCopyWarning: \n",
      "A value is trying to be set on a copy of a slice from a DataFrame.\n",
      "Try using .loc[row_indexer,col_indexer] = value instead\n",
      "\n",
      "See the caveats in the documentation: https://pandas.pydata.org/pandas-docs/stable/user_guide/indexing.html#returning-a-view-versus-a-copy\n",
      "  catch_trials[\"catch_trial_correct\"] = catch_trials[\"belief_model\"] == catch_trials[\"response\"]\n",
      "/var/folders/gv/42lb0z1j4dxf3wsk74nrxwx80000gn/T/ipykernel_60670/3387171192.py:8: SettingWithCopyWarning: \n",
      "A value is trying to be set on a copy of a slice from a DataFrame.\n",
      "Try using .loc[row_indexer,col_indexer] = value instead\n",
      "\n",
      "See the caveats in the documentation: https://pandas.pydata.org/pandas-docs/stable/user_guide/indexing.html#returning-a-view-versus-a-copy\n",
      "  catch_trials[\"feature\"] = catch_trials.data.apply(lambda x: x.get(\"features\")[0])\n",
      "/var/folders/gv/42lb0z1j4dxf3wsk74nrxwx80000gn/T/ipykernel_60670/3387171192.py:9: SettingWithCopyWarning: \n",
      "A value is trying to be set on a copy of a slice from a DataFrame.\n",
      "Try using .loc[row_indexer,col_indexer] = value instead\n",
      "\n",
      "See the caveats in the documentation: https://pandas.pydata.org/pandas-docs/stable/user_guide/indexing.html#returning-a-view-versus-a-copy\n",
      "  catch_trials[\"feature_value\"] = catch_trials.data.apply(lambda x: x.get(\"values\")[0])\n",
      "/var/folders/gv/42lb0z1j4dxf3wsk74nrxwx80000gn/T/ipykernel_60670/3387171192.py:12: SettingWithCopyWarning: \n",
      "A value is trying to be set on a copy of a slice from a DataFrame.\n",
      "Try using .loc[row_indexer,col_indexer] = value instead\n",
      "\n",
      "See the caveats in the documentation: https://pandas.pydata.org/pandas-docs/stable/user_guide/indexing.html#returning-a-view-versus-a-copy\n",
      "  catch_trials[\"action_context\"] = catch_trials.data.apply(lambda x: str([x.get(\"action_context\")[0]]))\n",
      "/var/folders/gv/42lb0z1j4dxf3wsk74nrxwx80000gn/T/ipykernel_60670/3387171192.py:14: SettingWithCopyWarning: \n",
      "A value is trying to be set on a copy of a slice from a DataFrame.\n",
      "Try using .loc[row_indexer,col_indexer] = value instead\n",
      "\n",
      "See the caveats in the documentation: https://pandas.pydata.org/pandas-docs/stable/user_guide/indexing.html#returning-a-view-versus-a-copy\n",
      "  catch_trials[\"action_context\"] = catch_trials.data.apply(lambda x: str(x.get(\"action_context\")))\n"
     ]
    }
   ],
   "source": [
    "select_trials = trials[trials.trial_type == 'survey-html-form']\n",
    "catch_trials = select_trials[select_trials['data'].apply(lambda x: bool(x.get('features', 'all') != 'all'))]\n",
    "\n",
    "catch_trials[\"belief_model\"] = catch_trials.data.apply(lambda x: 1 if x.get(\"belief\") else 0)\n",
    "catch_trials[\"response\"] = catch_trials.data.apply(lambda x: bool(int(x['response'][\"utterance\"])))\n",
    "catch_trials[\"catch_trial_correct\"] = catch_trials[\"belief_model\"] == catch_trials[\"response\"]\n",
    "\n",
    "catch_trials[\"feature\"] = catch_trials.data.apply(lambda x: x.get(\"features\")[0])\n",
    "catch_trials[\"feature_value\"] = catch_trials.data.apply(lambda x: x.get(\"values\")[0])\n",
    "\n",
    "# Grab only the first action context, so multi-horizon participants join correctly\n",
    "catch_trials[\"action_context\"] = catch_trials.data.apply(lambda x: str([x.get(\"action_context\")[0]]))\n",
    "\n",
    "catch_trials[\"action_context\"] = catch_trials.data.apply(lambda x: str(x.get(\"action_context\")))\n",
    "# catch_trials[\"context_hash\"] = catch_trials.action_context.apply(hash_id)"
   ]
  },
  {
   "cell_type": "code",
   "execution_count": 14,
   "id": "34559087-7d2f-4d40-bef6-7372faa76895",
   "metadata": {},
   "outputs": [
    {
     "data": {
      "text/plain": [
       "Text(0, 0.5, 'Fraction of participants')"
      ]
     },
     "execution_count": 14,
     "metadata": {},
     "output_type": "execute_result"
    },
    {
     "data": {
      "image/png": "[encoded data removed]",
      "text/plain": [
       "<Figure size 432x288 with 1 Axes>"
      ]
     },
     "metadata": {
      "needs_background": "light"
     },
     "output_type": "display_data"
    }
   ],
   "source": [
    "participant_catch_results = catch_trials[[\"catch_trial_correct\",  \"workerid\"]].groupby([\"workerid\"]).mean().reset_index()\n",
    "participant_catch_results[\"passed_catch_trial\"] = participant_catch_results.catch_trial_correct > .75\n",
    "\n",
    "sns.histplot(participant_catch_results, x=\"catch_trial_correct\", multiple=\"dodge\")\n",
    "plt.ylabel(\"Fraction of participants\")"
   ]
  },
  {
   "cell_type": "code",
   "execution_count": 15,
   "id": "d5741caa-b789-477a-9b44-128fca8b5cea",
   "metadata": {},
   "outputs": [],
   "source": [
    "# Join catch results into main dataframe to simplify analysis\n",
    "joined_trials = trials.set_index(\"workerid\").join(participant_catch_results[[\"passed_catch_trial\", \"catch_trial_correct\", \"workerid\"]].set_index('workerid'))\n",
    "\n",
    "joined_trials = joined_trials.join(quizResults).reset_index()\n",
    "\n",
    "joined_trials.passed_catch_trial = joined_trials.passed_catch_trial.fillna(False)\n",
    "joined_trials[\"no_catch_data\"] = joined_trials.passed_catch_trial.isnull()"
   ]
  },
  {
   "cell_type": "code",
   "execution_count": 16,
   "id": "521736dc-0277-46f8-9154-5fc22b391989",
   "metadata": {},
   "outputs": [
    {
     "name": "stdout",
     "output_type": "stream",
     "text": [
      "119 unique workers before join, 119 after.\n"
     ]
    }
   ],
   "source": [
    "print(\"{} unique workers before join, {} after.\".format(trials.workerid.nunique(), joined_trials.workerid.nunique()))\n",
    "\n",
    "# joined_trials.groupby([\"objective\", \"horizon\", \"passed_catch_trial\"]).workerid.nunique()"
   ]
  },
  {
   "cell_type": "code",
   "execution_count": 17,
   "id": "9db7eefc-edc4-4e57-8024-a5f30a531321",
   "metadata": {},
   "outputs": [
    {
     "data": {
      "text/plain": [
       "passed_quiz  passed_catch_trial\n",
       "False        False                 14\n",
       "True         False                  5\n",
       "             True                  99\n",
       "Name: workerid, dtype: int64"
      ]
     },
     "execution_count": 17,
     "metadata": {},
     "output_type": "execute_result"
    }
   ],
   "source": [
    "joined_trials.groupby([\"passed_quiz\", \"passed_catch_trial\"]).workerid.nunique()"
   ]
  },
  {
   "cell_type": "markdown",
   "id": "968ef0be-a7c8-46f9-8ce4-74e8197237cc",
   "metadata": {},
   "source": [
    "## Drop participants that did not pass"
   ]
  },
  {
   "cell_type": "code",
   "execution_count": 18,
   "id": "29c61b80-b78d-42a5-bb67-24273dc68571",
   "metadata": {},
   "outputs": [],
   "source": [
    "joined_trials = joined_trials[joined_trials.passed_catch_trial]"
   ]
  },
  {
   "cell_type": "markdown",
   "id": "7c372062-6a2a-4905-8784-a0ca13feb86f",
   "metadata": {},
   "source": [
    "## Visualize Responses"
   ]
  },
  {
   "cell_type": "code",
   "execution_count": 19,
   "id": "0a0414dc-da48-46f1-ba31-23553bbd923a",
   "metadata": {},
   "outputs": [
    {
     "data": {
      "text/plain": [
       "2772"
      ]
     },
     "execution_count": 19,
     "metadata": {},
     "output_type": "execute_result"
    }
   ],
   "source": [
    "select_trials = joined_trials[joined_trials.trial_type == 'survey-html-form']\n",
    "\n",
    "exp1_trials = select_trials[select_trials[\"data\"].apply(lambda x: x.get(\"features\", \"all\") == \"all\")]\n",
    "\n",
    "len(exp1_trials)"
   ]
  },
  {
   "cell_type": "code",
   "execution_count": 20,
   "id": "7157db15-3699-4af6-a8ad-ee6881021bf9",
   "metadata": {},
   "outputs": [
    {
     "data": {
      "text/plain": [
       "{'feature': 'Green', 'feature_value': '2', 'texture': '', 'color': ''}"
      ]
     },
     "execution_count": 20,
     "metadata": {},
     "output_type": "execute_result"
    }
   ],
   "source": [
    "exp1_trials.data.iloc[1][\"response\"]"
   ]
  },
  {
   "cell_type": "code",
   "execution_count": 21,
   "id": "955fd4a7-6427-4738-b5cc-5e5628dfd885",
   "metadata": {},
   "outputs": [
    {
     "name": "stderr",
     "output_type": "stream",
     "text": [
      "/var/folders/gv/42lb0z1j4dxf3wsk74nrxwx80000gn/T/ipykernel_60670/3512373998.py:1: SettingWithCopyWarning: \n",
      "A value is trying to be set on a copy of a slice from a DataFrame.\n",
      "Try using .loc[row_indexer,col_indexer] = value instead\n",
      "\n",
      "See the caveats in the documentation: https://pandas.pydata.org/pandas-docs/stable/user_guide/indexing.html#returning-a-view-versus-a-copy\n",
      "  exp1_trials[\"feature\"] = exp1_trials.data.apply(lambda x: x[\"response\"][\"feature\"])\n",
      "/var/folders/gv/42lb0z1j4dxf3wsk74nrxwx80000gn/T/ipykernel_60670/3512373998.py:2: SettingWithCopyWarning: \n",
      "A value is trying to be set on a copy of a slice from a DataFrame.\n",
      "Try using .loc[row_indexer,col_indexer] = value instead\n",
      "\n",
      "See the caveats in the documentation: https://pandas.pydata.org/pandas-docs/stable/user_guide/indexing.html#returning-a-view-versus-a-copy\n",
      "  exp1_trials[\"feature_value\"] = exp1_trials.data.apply(lambda x: x[\"response\"][\"feature_value\"])\n",
      "/var/folders/gv/42lb0z1j4dxf3wsk74nrxwx80000gn/T/ipykernel_60670/3512373998.py:3: SettingWithCopyWarning: \n",
      "A value is trying to be set on a copy of a slice from a DataFrame.\n",
      "Try using .loc[row_indexer,col_indexer] = value instead\n",
      "\n",
      "See the caveats in the documentation: https://pandas.pydata.org/pandas-docs/stable/user_guide/indexing.html#returning-a-view-versus-a-copy\n",
      "  exp1_trials[\"instruction_texture\"] = exp1_trials.data.apply(lambda x: x[\"response\"][\"texture\"])\n",
      "/var/folders/gv/42lb0z1j4dxf3wsk74nrxwx80000gn/T/ipykernel_60670/3512373998.py:4: SettingWithCopyWarning: \n",
      "A value is trying to be set on a copy of a slice from a DataFrame.\n",
      "Try using .loc[row_indexer,col_indexer] = value instead\n",
      "\n",
      "See the caveats in the documentation: https://pandas.pydata.org/pandas-docs/stable/user_guide/indexing.html#returning-a-view-versus-a-copy\n",
      "  exp1_trials[\"instruction_color\"] = exp1_trials.data.apply(lambda x: x[\"response\"][\"color\"])\n",
      "/var/folders/gv/42lb0z1j4dxf3wsk74nrxwx80000gn/T/ipykernel_60670/3512373998.py:5: SettingWithCopyWarning: \n",
      "A value is trying to be set on a copy of a slice from a DataFrame.\n",
      "Try using .loc[row_indexer,col_indexer] = value instead\n",
      "\n",
      "See the caveats in the documentation: https://pandas.pydata.org/pandas-docs/stable/user_guide/indexing.html#returning-a-view-versus-a-copy\n",
      "  exp1_trials[\"horizon\"] = exp1_trials.data.apply(lambda x: int(x[\"horizon\"]))\n",
      "/var/folders/gv/42lb0z1j4dxf3wsk74nrxwx80000gn/T/ipykernel_60670/3512373998.py:7: SettingWithCopyWarning: \n",
      "A value is trying to be set on a copy of a slice from a DataFrame.\n",
      "Try using .loc[row_indexer,col_indexer] = value instead\n",
      "\n",
      "See the caveats in the documentation: https://pandas.pydata.org/pandas-docs/stable/user_guide/indexing.html#returning-a-view-versus-a-copy\n",
      "  exp1_trials[\"utterance\"] = exp1_trials.data.apply(lambda x: x[\"response\"])\n",
      "/var/folders/gv/42lb0z1j4dxf3wsk74nrxwx80000gn/T/ipykernel_60670/3512373998.py:9: SettingWithCopyWarning: \n",
      "A value is trying to be set on a copy of a slice from a DataFrame.\n",
      "Try using .loc[row_indexer,col_indexer] = value instead\n",
      "\n",
      "See the caveats in the documentation: https://pandas.pydata.org/pandas-docs/stable/user_guide/indexing.html#returning-a-view-versus-a-copy\n",
      "  exp1_trials[\"instruction\"] = exp1_trials.data.apply(lambda x: (x[\"response\"][\"feature\"]) == \"\")\n",
      "/var/folders/gv/42lb0z1j4dxf3wsk74nrxwx80000gn/T/ipykernel_60670/3512373998.py:11: SettingWithCopyWarning: \n",
      "A value is trying to be set on a copy of a slice from a DataFrame.\n",
      "Try using .loc[row_indexer,col_indexer] = value instead\n",
      "\n",
      "See the caveats in the documentation: https://pandas.pydata.org/pandas-docs/stable/user_guide/indexing.html#returning-a-view-versus-a-copy\n",
      "  exp1_trials[\"feature_value\"] = exp1_trials.apply(lambda x: int(x[\"feature_value\"]) if not x[\"instruction\"] else None, axis=1)\n"
     ]
    },
    {
     "data": {
      "text/plain": [
       "           1203\n",
       "Green       860\n",
       "Blue        389\n",
       "Spotted     213\n",
       "Striped     107\n",
       "Name: feature, dtype: int64"
      ]
     },
     "execution_count": 21,
     "metadata": {},
     "output_type": "execute_result"
    }
   ],
   "source": [
    "exp1_trials[\"feature\"] = exp1_trials.data.apply(lambda x: x[\"response\"][\"feature\"])\n",
    "exp1_trials[\"feature_value\"] = exp1_trials.data.apply(lambda x: x[\"response\"][\"feature_value\"])\n",
    "exp1_trials[\"instruction_texture\"] = exp1_trials.data.apply(lambda x: x[\"response\"][\"texture\"])\n",
    "exp1_trials[\"instruction_color\"] = exp1_trials.data.apply(lambda x: x[\"response\"][\"color\"])\n",
    "exp1_trials[\"horizon\"] = exp1_trials.data.apply(lambda x: int(x[\"horizon\"]))\n",
    "\n",
    "exp1_trials[\"utterance\"] = exp1_trials.data.apply(lambda x: x[\"response\"])\n",
    "\n",
    "exp1_trials[\"instruction\"] = exp1_trials.data.apply(lambda x: (x[\"response\"][\"feature\"]) == \"\")\n",
    "\n",
    "exp1_trials[\"feature_value\"] = exp1_trials.apply(lambda x: int(x[\"feature_value\"]) if not x[\"instruction\"] else None, axis=1)\n",
    "\n",
    "# Sanity check chosen messages\n",
    "exp1_trials.feature.value_counts()"
   ]
  },
  {
   "cell_type": "code",
   "execution_count": 22,
   "id": "9025f4ed-d1a3-4cf4-b3d9-2b77cf80ed74",
   "metadata": {},
   "outputs": [],
   "source": [
    "def align_instructions(row):\n",
    "    \n",
    "    if not row[\"instruction\"]:\n",
    "        return row\n",
    "    \n",
    "    # Is this row aligned already? If so, return\n",
    "    if row[\"instruction_texture\"] in [\"Spotted\", \"Solid\", \"Striped\"]:\n",
    "        return row\n",
    "    \n",
    "    # Otherwise, switch 'em\n",
    "    row_color = row[\"instruction_texture\"]\n",
    "    row[\"instruction_texture\"] = row[\"instruction_color\"]\n",
    "    row[\"instruction_color\"] = row_color\n",
    "        \n",
    "    return row\n",
    "\n",
    "exp1_trials = exp1_trials.apply(align_instructions, axis=1)## Visualize Responses"
   ]
  },
  {
   "cell_type": "code",
   "execution_count": 23,
   "id": "5d0cb05d-dba0-4e29-973c-a75d1a2d201c",
   "metadata": {},
   "outputs": [],
   "source": [
    "exp1_trials[\"message_type\"] = exp1_trials.instruction.apply(lambda x: \"Instructions\" if x else \"Descriptions\")\n",
    "\n",
    "n_instructions = exp1_trials[exp1_trials[\"message_type\"] == \"Instructions\"].workerid.value_counts()"
   ]
  },
  {
   "cell_type": "code",
   "execution_count": 24,
   "id": "3311fae0-c461-4371-8e54-f283940bd2c9",
   "metadata": {},
   "outputs": [],
   "source": [
    "n_instructions = exp1_trials[exp1_trials[\"message_type\"] == \"Instructions\"].workerid.value_counts()\n",
    "\n",
    "exp1_joined = pd.merge(exp1_trials, n_instructions.to_frame(name=\"n_instructions\"), \n",
    "                       left_on='workerid', right_index=True, how='left').reset_index()\n",
    "\n",
    "exp1_joined[\"n_instructions\"].fillna(0, inplace=True)\n",
    "\n",
    "exp1_trials = exp1_joined"
   ]
  },
  {
   "cell_type": "code",
   "execution_count": 25,
   "id": "eb6a87db-3580-4b5c-897e-d06ca3b2f356",
   "metadata": {},
   "outputs": [
    {
     "data": {
      "text/plain": [
       "Text(0, 0.5, 'Message Count')"
      ]
     },
     "execution_count": 25,
     "metadata": {},
     "output_type": "execute_result"
    },
    {
     "data": {
      "image/png": "[encoded data removed]",
      "text/plain": [
       "<Figure size 432x288 with 1 Axes>"
      ]
     },
     "metadata": {
      "needs_background": "light"
     },
     "output_type": "display_data"
    }
   ],
   "source": [
    "ordering = exp1_trials.drop_duplicates([\"workerid\", \"n_instructions\"]).sort_values(\"n_instructions\", ascending=False).workerid\n",
    "\n",
    "sns.countplot(data=exp1_trials, x=\"workerid\", hue=\"message_type\", order=ordering, hue_order=[\"Descriptions\", \"Instructions\"])\n",
    "plt.suptitle(\"Data from {} participants.\".format(exp1_trials.workerid.nunique()))\n",
    "plt.xticks([])\n",
    "plt.xlabel(\"Individual Participants\", fontsize=15)\n",
    "plt.legend(loc='best', fontsize=15)\n",
    "plt.ylabel(\"Message Count\", fontsize=15)\n"
   ]
  },
  {
   "cell_type": "code",
   "execution_count": 26,
   "id": "a3d42a97-0f6f-454b-87d4-1b1ddce58925",
   "metadata": {},
   "outputs": [
    {
     "data": {
      "text/plain": [
       "6"
      ]
     },
     "execution_count": 26,
     "metadata": {},
     "output_type": "execute_result"
    }
   ],
   "source": [
    "exp1_trials[exp1_trials.n_instructions.isin([0, 28])].workerid.nunique()"
   ]
  },
  {
   "cell_type": "code",
   "execution_count": 27,
   "id": "98beba5a-ac61-4c69-a633-060c8e789991",
   "metadata": {},
   "outputs": [],
   "source": [
    "count_by_horizon = exp1_trials.groupby([\"horizon\", \"message_type\"]).size().reset_index()\n",
    "count_by_horizon = count_by_horizon.rename({0:\"size\"}, axis=1)\n",
    "\n",
    "count_by_horizon[\"pct\"] = count_by_horizon.groupby(\"horizon\")[\"size\"].transform(lambda x: x/x.sum())\n",
    "# count_by_horizon.size()#.transform(lambda x: x / x.sum())\n",
    "# mean_by_horizon = exp1_trials"
   ]
  },
  {
   "cell_type": "code",
   "execution_count": 28,
   "id": "4fb4bdca-e234-44b7-afb7-154748f32a0b",
   "metadata": {},
   "outputs": [
    {
     "data": {
      "text/plain": [
       "Text(0.5, 0, 'Speaker Horizon $H$')"
      ]
     },
     "execution_count": 28,
     "metadata": {},
     "output_type": "execute_result"
    },
    {
     "data": {
      "image/png": "[encoded data removed]",
      "text/plain": [
       "<Figure size 216x360 with 1 Axes>"
      ]
     },
     "metadata": {
      "needs_background": "light"
     },
     "output_type": "display_data"
    }
   ],
   "source": [
    "import math\n",
    "\n",
    "descriptions = count_by_horizon[count_by_horizon.message_type == \"Descriptions\"]\n",
    "instructions = count_by_horizon[count_by_horizon.message_type != \"Descriptions\"]\n",
    "\n",
    "# plt.plot(instructions.horizon, instructions.pct, c='black', linewidth = 5)\n",
    "# plt.plot(descriptions.horizon, descriptions.pct, c='black', linewidth = 5)\n",
    "\n",
    "description_err = descriptions.apply(lambda x: 1.96 * math.sqrt(x['pct']*(1-x['pct'])/x['size']), axis=1)\n",
    "# instruction_err = instructions.apply(lambda x: 1.96 * math.sqrt(x['pct']*(1-x['pct'])/x['size']), axis=1)\n",
    "\n",
    "plt.figure(figsize=(3,5))\n",
    "ax = plt.gca()\n",
    "ax.errorbar(descriptions.horizon, descriptions.pct, description_err,  color='gray', ecolor='gray',  linewidth=3, label=\"Descriptions\")\n",
    "ax.errorbar(instructions.horizon, instructions.pct, description_err,  color='k', ecolor='k', linewidth=3, linestyle='--', label=\"Instructions\")\n",
    "\n",
    "plt.legend(loc='best', fontsize=15)\n",
    "ax.set_ylim(0, .8)\n",
    "plt.xticks([1, 2, 4], fontsize=15)\n",
    "ys = [0, .25, .5, .75]\n",
    "for y in ys:\n",
    "    plt.axhline(y, alpha=.2, linestyle='--', c='k', zorder=0)\n",
    "plt.yticks(ys, fontsize=15);\n",
    "\n",
    "plt.ylabel(\"Percent of Utterances\", fontsize=20)\n",
    "plt.xlabel(\"Speaker Horizon $H$\", fontsize=20)"
   ]
  },
  {
   "cell_type": "code",
   "execution_count": 29,
   "id": "150cdcd3-19fe-48a9-9d22-dd377da3fd9f",
   "metadata": {},
   "outputs": [
    {
     "data": {
      "text/plain": [
       "<seaborn.axisgrid.FacetGrid at 0x7fb981635cd0>"
      ]
     },
     "execution_count": 29,
     "metadata": {},
     "output_type": "execute_result"
    },
    {
     "data": {
      "image/png": "[encoded data removed]",
      "text/plain": [
       "<Figure size 904.65x576 with 8 Axes>"
      ]
     },
     "metadata": {
      "needs_background": "light"
     },
     "output_type": "display_data"
    }
   ],
   "source": [
    "random_ids = exp1_trials.workerid.sample(8)\n",
    "\n",
    "random_sample = exp1_trials[exp1_trials.workerid.isin(random_ids)]\n",
    "\n",
    "g = sns.catplot(x=\"horizon\", hue=\"message_type\", col=\"workerid\",\n",
    "                data=random_sample, kind=\"count\", col_wrap = 4, hue_order=[\"Descriptions\", \"Instructions\"],\n",
    "                height=4, aspect=.7);\n",
    "\n",
    "g.set_titles(\"\")\n",
    "g.set_axis_labels(x_var=\"Horizon $H$\", y_var=\"Message Type Count\", fontsize=20)"
   ]
  },
  {
   "cell_type": "code",
   "execution_count": 30,
   "id": "29f9292e-8d6f-479a-a3a5-5163dfab1420",
   "metadata": {},
   "outputs": [
    {
     "data": {
      "text/plain": [
       "Text(0.5, 15.0, '')"
      ]
     },
     "execution_count": 30,
     "metadata": {},
     "output_type": "execute_result"
    },
    {
     "data": {
      "image/png": "[encoded data removed]",
      "text/plain": [
       "<Figure size 432x288 with 2 Axes>"
      ]
     },
     "metadata": {
      "needs_background": "light"
     },
     "output_type": "display_data"
    }
   ],
   "source": [
    "def heatmap_descriptions(to_plot_messages, title=\"\", vmax=None):\n",
    "    \n",
    "    descriptions = to_plot_messages[~to_plot_messages.instruction]\n",
    "    if len(descriptions) == 0:\n",
    "        print(\"{}: found 0 descriptions.\".format(to_plot_messages.workerid.unique()))\n",
    "        return\n",
    "              \n",
    "    to_plot_messages = descriptions\n",
    "        \n",
    "    percent_of_messages = (to_plot_messages.groupby([\"feature\", \"feature_value\"]).size() / len(to_plot_messages)).reset_index()\n",
    "\n",
    "    unique_values = set(percent_of_messages.feature_value.unique())\n",
    "    missing_vals = unique_values.symmetric_difference({-2, -1, 1, 2})\n",
    "    \n",
    "    if missing_vals:\n",
    "        print(\"Message with val {} not found-- appending.\".format(missing_vals))\n",
    "        for val in missing_vals:\n",
    "            percent_of_messages = percent_of_messages.append({\"feature\": \"Blue\", \"feature_value\": val}, ignore_index=True)\n",
    "    \n",
    "    message_table = percent_of_messages.pivot(\"feature_value\", \"feature\", 0)\n",
    "\n",
    "    features_in_descending_order = [\"Green\", \"Spotted\", \"Striped\", \"Blue\"]\n",
    "    message_table = message_table.reindex(features_in_descending_order, axis=1).fillna(0)\n",
    "    \n",
    "    plt.figure()\n",
    "    ax = sns.heatmap(message_table, cmap=\"Oranges\", vmax=vmax, annot=True)\n",
    "    ax.invert_yaxis()\n",
    "    ax.set_title(\"{} Descriptions\".format(len(to_plot_messages)), fontsize=20)\n",
    "#     ax.set_xticks([])\n",
    "#     ax.set_yticks([])\n",
    "    ax.set_xlabel(\"Features\")\n",
    "    ax.set_ylabel(\"Values\")\n",
    "    \n",
    "heatmap_descriptions(exp1_trials, vmax=.45)#, annot=True)\n",
    "plt.yticks(fontsize=15)\n",
    "plt.ylabel(\"Values\", fontsize=20)\n",
    "plt.xticks([])\n",
    "plt.xlabel(\"\")"
   ]
  },
  {
   "cell_type": "code",
   "execution_count": 31,
   "id": "9859c843-d06e-4ee5-9916-f0b19259fdbc",
   "metadata": {},
   "outputs": [
    {
     "data": {
      "text/plain": [
       "instruction_color  instruction_texture\n",
       "Blue               Solid                    4\n",
       "                   Spotted                 16\n",
       "                   Striped                  2\n",
       "Green              Solid                  266\n",
       "                   Spotted                514\n",
       "                   Striped                152\n",
       "Red                Solid                   83\n",
       "                   Spotted                142\n",
       "                   Striped                 24\n",
       "dtype: int64"
      ]
     },
     "execution_count": 31,
     "metadata": {},
     "output_type": "execute_result"
    }
   ],
   "source": [
    "instructions = exp1_trials[exp1_trials.instruction]\n",
    "\n",
    "instructions.groupby([\"instruction_color\", \"instruction_texture\"]).size()"
   ]
  },
  {
   "cell_type": "code",
   "execution_count": 32,
   "id": "b0fd8a79-18ba-4275-91c8-76515d4b9c37",
   "metadata": {},
   "outputs": [
    {
     "data": {
      "text/plain": [
       "([], [])"
      ]
     },
     "execution_count": 32,
     "metadata": {},
     "output_type": "execute_result"
    },
    {
     "data": {
      "image/png": "[encoded data removed]",
      "text/plain": [
       "<Figure size 432x288 with 2 Axes>"
      ]
     },
     "metadata": {
      "needs_background": "light"
     },
     "output_type": "display_data"
    }
   ],
   "source": [
    "def heatmap_instructions(to_plot_messages, title=\"\", vmax=None):\n",
    "    \n",
    "    instructions = to_plot_messages[to_plot_messages.instruction]\n",
    "    if len(instructions) == 0:\n",
    "        print(\"{}: found 0 descriptions.\".format(to_plot_messages.workerid.unique()))\n",
    "        return\n",
    "              \n",
    "    to_plot_messages = instructions\n",
    "        \n",
    "    percent_of_messages = (to_plot_messages.groupby([\"instruction_color\", \"instruction_texture\"]).size() / len(to_plot_messages)).reset_index()\n",
    "\n",
    "    message_table = percent_of_messages.pivot(\"instruction_texture\", \"instruction_color\", 0)\n",
    "\n",
    "    color_order = [\"Green\", \"Red\",  \"Blue\"]\n",
    "    texture_order = [\"Spotted\", \"Solid\", \"Striped\"]\n",
    "\n",
    "    message_table = message_table.reindex(color_order, axis=1).fillna(0)\n",
    "    message_table = message_table.reindex(texture_order, axis=0).fillna(0)\n",
    "    \n",
    "    plt.figure()\n",
    "    ax = sns.heatmap(message_table, cmap=\"Oranges\", annot=True)\n",
    "    ax.set_title(title, fontsize=20)\n",
    "    ax.set_xlabel(\"\")\n",
    "    ax.set_ylabel(\"\")\n",
    "    \n",
    "title = \"{} Instructions\".format(len(instructions))\n",
    "\n",
    "heatmap_instructions(instructions, title=title, vmax=.45)\n",
    "plt.xticks([])\n",
    "plt.yticks([])"
   ]
  },
  {
   "cell_type": "markdown",
   "id": "5803012d-f940-4f02-ad4a-adb39a67ae8f",
   "metadata": {},
   "source": [
    "## Export for R"
   ]
  },
  {
   "cell_type": "code",
   "execution_count": 33,
   "id": "a1cd74a0-c043-47e6-a23f-6387320f11ca",
   "metadata": {},
   "outputs": [],
   "source": [
    "def utterance_to_string(utt):\n",
    "    if utt['texture'] != '':\n",
    "        return f'{utt[\"texture\"]} {utt[\"color\"]}'\n",
    "    else:\n",
    "        return f'{utt[\"feature\"]} {utt[\"feature_value\"]}'\n",
    "\n",
    "exp1_trials['utterance_for_r'] = exp1_trials.utterance.apply(lambda x: utterance_to_string(x))"
   ]
  },
  {
   "cell_type": "code",
   "execution_count": 34,
   "id": "4ac2f46a-b1a1-4e15-a02a-a168cb2ca6a4",
   "metadata": {},
   "outputs": [],
   "source": [
    "exp1_trials[['horizon', 'utterance_for_r']].to_csv(\"utterance_counts_for_r.csv\")"
   ]
  },
  {
   "cell_type": "code",
   "execution_count": 35,
   "id": "9e599f8e-8651-427a-893f-afad1f411305",
   "metadata": {},
   "outputs": [
    {
     "data": {
      "text/plain": [
       "1    939\n",
       "2    917\n",
       "4    916\n",
       "Name: horizon, dtype: int64"
      ]
     },
     "execution_count": 35,
     "metadata": {},
     "output_type": "execute_result"
    }
   ],
   "source": [
    "exp1_trials.horizon.value_counts()"
   ]
  },
  {
   "cell_type": "code",
   "execution_count": 36,
   "id": "0543266b-9c86-4030-8106-f5b242c1811c",
   "metadata": {},
   "outputs": [],
   "source": [
    "exp1_trials[\"utt\"] = exp1_trials.data.apply(lambda x: x.get('response'))"
   ]
  },
  {
   "cell_type": "code",
   "execution_count": 37,
   "id": "2745b6d2-b32a-435b-afce-7a105a1000bd",
   "metadata": {},
   "outputs": [],
   "source": [
    "exp_to_theory_map = {\"Blue\": \"blue\", \"Green\": \"green\", \"Red\": \"red\",\n",
    "                     \"Spotted\": \"circle\", \"Solid\": \"triangle\", \"Striped\": \"square\"}\n",
    "\n",
    "def extract_single_action_trials(trial):\n",
    "    \n",
    "    action_context = trial[\"data\"][\"action_context\"][0]\n",
    "    context = [{\"color\": exp_to_theory_map[a[\"color\"]], \"shape\": exp_to_theory_map[a[\"texture\"]]} for a in action_context]\n",
    "    \n",
    "    base = {\"action_context\": context,\n",
    "            \"workerid\": trial[\"workerid\"],\n",
    "            \"horizon\": trial[\"horizon\"]}\n",
    "    \n",
    "    utt = {}\n",
    "    \n",
    "    if trial[\"instruction\"]:\n",
    "        utt[\"color\"] = exp_to_theory_map[trial[\"instruction_color\"]]\n",
    "        utt[\"shape\"] = exp_to_theory_map[trial[\"instruction_texture\"]]\n",
    "        utt[\"type\"] = \"instruction\"\n",
    "    \n",
    "    elif not trial[\"instruction\"]:\n",
    "        utt[\"type\"] = \"description\"\n",
    "        utt[\"feature\"] = exp_to_theory_map[trial[\"feature\"]]\n",
    "        utt[\"value\"] = int(trial[\"feature_value\"])\n",
    "    base[\"utt\"] = utt\n",
    "    return base"
   ]
  },
  {
   "cell_type": "code",
   "execution_count": 38,
   "id": "6fb3b768-ad05-4b6f-a221-36bf30436baa",
   "metadata": {},
   "outputs": [],
   "source": [
    "results = exp1_trials.apply(lambda x: extract_single_action_trials(x), axis=1)"
   ]
  },
  {
   "cell_type": "code",
   "execution_count": 39,
   "id": "84a5453d-cc90-4892-b29f-57fdf1860433",
   "metadata": {},
   "outputs": [],
   "source": [
    "json.dump(list(results.values), open(\"data/exp_utterances.json\", \"w\"))"
   ]
  }
 ],
 "metadata": {
  "kernelspec": {
   "display_name": "Python 3 (ipykernel)",
   "language": "python",
   "name": "python3"
  },
  "language_info": {
   "codemirror_mode": {
    "name": "ipython",
    "version": 3
   },
   "file_extension": ".py",
   "mimetype": "text/x-python",
   "name": "python",
   "nbconvert_exporter": "python",
   "pygments_lexer": "ipython3",
   "version": "3.9.12"
  }
 },
 "nbformat": 4,
 "nbformat_minor": 5
}
