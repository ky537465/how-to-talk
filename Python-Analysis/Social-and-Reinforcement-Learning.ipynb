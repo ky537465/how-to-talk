{
 "cells": [
  {
   "cell_type": "code",
   "execution_count": 1,
   "id": "32e72bb8-6a8d-475c-9432-612a24bff552",
   "metadata": {},
   "outputs": [],
   "source": [
    "import numpy as np\n",
    "import pandas as pd\n",
    "import matplotlib.pylab as plt\n",
    "\n",
    "import itertools\n",
    "import seaborn as sns\n",
    "\n",
    "%load_ext autoreload\n",
    "%autoreload 2"
   ]
  },
  {
   "cell_type": "code",
   "execution_count": 2,
   "id": "38eb3ec0-548b-40bb-b079-b5b17ee2c543",
   "metadata": {},
   "outputs": [],
   "source": [
    "from literal_listener import StatelessLiteralListener\n",
    "from literal_speaker import LiteralSpeaker\n",
    "from pragmatic_listener import PragmaticListener\n",
    "from learner import LearnerAgent\n",
    "\n",
    "from configuration import TRUE_REWARDS\n",
    "\n",
    "from visualizations import visualize_pragmatic_beliefs, plot_point_estimate"
   ]
  },
  {
   "cell_type": "markdown",
   "id": "e2b3a366-0dd4-4c9e-a4dc-a50e0bea6b99",
   "metadata": {},
   "source": [
    "# Cache Pragmatic Results"
   ]
  },
  {
   "cell_type": "code",
   "execution_count": 3,
   "id": "1775498b-ee33-40ae-9909-63f4370398ed",
   "metadata": {},
   "outputs": [],
   "source": [
    "import json\n",
    "import time\n",
    "\n",
    "human_utterances = json.load(open(\"data/exp_utterances.json\"))"
   ]
  },
  {
   "cell_type": "markdown",
   "id": "4bee6d5e-f975-41bb-9d33-e23f0e0537c0",
   "metadata": {},
   "source": [
    "## Pragmatic - Uncertain"
   ]
  },
  {
   "cell_type": "code",
   "execution_count": 4,
   "id": "c04c185b-1cb0-452b-906d-49468ed6ef5c",
   "metadata": {},
   "outputs": [
    {
     "name": "stdout",
     "output_type": "stream",
     "text": [
      "Finished utterance 0 of 2772, took 0.036 seconds.\n",
      "Finished utterance 500 of 2772, took 1.05 seconds.\n",
      "Finished utterance 1000 of 2772, took 0.992 seconds.\n",
      "Finished utterance 1500 of 2772, took 0.987 seconds.\n",
      "Finished utterance 2000 of 2772, took 0.983 seconds.\n",
      "Finished utterance 2500 of 2772, took 0.986 seconds.\n"
     ]
    }
   ],
   "source": [
    "n_trials = 25\n",
    "alphaS = 3\n",
    "n_iters = 5\n",
    "\n",
    "utterances_to_use = human_utterances\n",
    "prior_var = 5\n",
    "importance_samples = 100\n",
    "unique_str=\"-v4-ER\"\n",
    "\n",
    "\n",
    "exp_literal = StatelessLiteralListener()\n",
    "exp_speaker = LiteralSpeaker(exp_literal, utterances=\"exp\", alphaS=alphaS)\n",
    "exp_pragmatic_listener = PragmaticListener(exp_speaker)\n",
    "\n",
    "start_time_ms = round(time.time() * 1000)   \n",
    "\n",
    "for i, u in enumerate(utterances_to_use):\n",
    "\n",
    "    pragmatic = LearnerAgent.cache_pragmatic_thompson_sampling(exp_pragmatic_listener, u[\"utt\"], u[\"action_context\"], \n",
    "                                                               horizons=[1,2,4], workerid=u['workerid'],\n",
    "                                                               n_trials=n_trials, prior_var=prior_var, \n",
    "                                                               min_importance_samples=importance_samples, \n",
    "                                                               n_iterations=n_iters, verbose=False,\n",
    "                                                               unique_str=unique_str)\n",
    "\n",
    "    if i%500 == 0:\n",
    "        end_time_ms = round(time.time() * 1000)\n",
    "        n_seconds = (end_time_ms - start_time_ms) / 1000\n",
    "        print(f'Finished utterance {i} of {len(utterances_to_use)}, took {n_seconds} seconds.')\n",
    "        start_time_ms = end_time_ms"
   ]
  },
  {
   "cell_type": "markdown",
   "id": "a596a887-b278-4fe8-87a6-01bc1c420a66",
   "metadata": {},
   "source": [
    "## Pragmatic - Misaligned"
   ]
  },
  {
   "cell_type": "code",
   "execution_count": 5,
   "id": "878af297-7edd-42f7-88a8-cf634219c658",
   "metadata": {},
   "outputs": [
    {
     "name": "stdout",
     "output_type": "stream",
     "text": [
      "Finished utterance 0 of 2772, took 0.003 seconds.\n",
      "Finished utterance 500 of 2772, took 1.064 seconds.\n",
      "Finished utterance 1000 of 2772, took 1.022 seconds.\n",
      "Finished utterance 1500 of 2772, took 1.005 seconds.\n",
      "Finished utterance 2000 of 2772, took 1.001 seconds.\n",
      "Finished utterance 2500 of 2772, took 1.004 seconds.\n"
     ]
    }
   ],
   "source": [
    "start_time_ms = round(time.time() * 1000)   \n",
    "\n",
    "for i, u in enumerate(utterances_to_use):\n",
    "\n",
    "    pragmatic = LearnerAgent.cache_pragmatic_thompson_sampling(exp_pragmatic_listener,\n",
    "                                                               u[\"utt\"], u[\"action_context\"], \n",
    "                                                               workerid=u['workerid'], unique_str=unique_str, \n",
    "                                                               prior_var=prior_var, min_importance_samples=importance_samples,\n",
    "                                                               n_iterations=n_iters, n_trials=n_trials, verbose=False,\n",
    "                                                               horizons=[1]) # This changes\n",
    "\n",
    "    if i%500 == 0:\n",
    "        end_time_ms = round(time.time() * 1000)\n",
    "        n_seconds = (end_time_ms - start_time_ms) / 1000\n",
    "        print(f'Finished utterance {i} of {len(utterances_to_use)}, took {n_seconds} seconds.')\n",
    "        start_time_ms = end_time_ms"
   ]
  },
  {
   "cell_type": "code",
   "execution_count": 6,
   "id": "2199fdf8-3097-47be-9179-0d9cc238597c",
   "metadata": {},
   "outputs": [
    {
     "name": "stdout",
     "output_type": "stream",
     "text": [
      "Finished utterance 0 of 2772, took 0.003 seconds.\n",
      "Finished utterance 500 of 2772, took 1.011 seconds.\n",
      "Finished utterance 1000 of 2772, took 1.018 seconds.\n",
      "Finished utterance 1500 of 2772, took 1.037 seconds.\n",
      "Finished utterance 2000 of 2772, took 1.012 seconds.\n",
      "Finished utterance 2500 of 2772, took 1.031 seconds.\n"
     ]
    }
   ],
   "source": [
    "start_time_ms = round(time.time() * 1000)   \n",
    "\n",
    "for i, u in enumerate(utterances_to_use):\n",
    "\n",
    "    pragmatic = LearnerAgent.cache_pragmatic_thompson_sampling(exp_pragmatic_listener,\n",
    "                                                               u[\"utt\"], u[\"action_context\"], \n",
    "                                                               workerid=u['workerid'], unique_str=unique_str, \n",
    "                                                               prior_var=prior_var, min_importance_samples=importance_samples,\n",
    "                                                               n_iterations=n_iters, n_trials=n_trials, verbose=False,\n",
    "                                                               horizons=[4]) # This changes\n",
    "\n",
    "    if i%500 == 0:\n",
    "        end_time_ms = round(time.time() * 1000)\n",
    "        n_seconds = (end_time_ms - start_time_ms) / 1000\n",
    "        print(f'Finished utterance {i} of {len(utterances_to_use)}, took {n_seconds} seconds.')\n",
    "        start_time_ms = end_time_ms"
   ]
  },
  {
   "cell_type": "markdown",
   "id": "c732e0cc-ff06-47a4-9190-b6ed7a3d77b4",
   "metadata": {},
   "source": [
    "## Pragmatic - Known"
   ]
  },
  {
   "cell_type": "code",
   "execution_count": 7,
   "id": "8a889de3-d9b3-4135-9a00-c48d8531b17f",
   "metadata": {},
   "outputs": [
    {
     "name": "stdout",
     "output_type": "stream",
     "text": [
      "Finished utterance 0 of 2772, took 0.002 seconds.\n",
      "Finished utterance 500 of 2772, took 1.006 seconds.\n",
      "Finished utterance 1000 of 2772, took 0.974 seconds.\n",
      "Finished utterance 1500 of 2772, took 0.948 seconds.\n",
      "Finished utterance 2000 of 2772, took 0.981 seconds.\n",
      "Finished utterance 2500 of 2772, took 0.989 seconds.\n"
     ]
    }
   ],
   "source": [
    "start_time_ms = round(time.time() * 1000)   \n",
    "\n",
    "for i, u in enumerate(utterances_to_use):\n",
    "    \n",
    "    pragmatic = LearnerAgent.cache_pragmatic_thompson_sampling(exp_pragmatic_listener,\n",
    "                                                               u[\"utt\"], u[\"action_context\"], \n",
    "                                                               workerid=u['workerid'], unique_str=unique_str, \n",
    "                                                               prior_var=prior_var, min_importance_samples=importance_samples,\n",
    "                                                               n_iterations=n_iters, n_trials=n_trials, verbose=False,\n",
    "                                                               horizons=[u[\"horizon\"]]) # This changes\n",
    "\n",
    "    if i%500 == 0:\n",
    "        end_time_ms = round(time.time() * 1000)\n",
    "        n_seconds = (end_time_ms - start_time_ms) / 1000\n",
    "        print(f'Finished utterance {i} of {len(utterances_to_use)}, took {n_seconds} seconds.')\n",
    "        start_time_ms = end_time_ms"
   ]
  },
  {
   "cell_type": "markdown",
   "id": "f867dd1c-f323-4619-a3a4-64af55c976ee",
   "metadata": {},
   "source": [
    "# Load cached results"
   ]
  },
  {
   "cell_type": "code",
   "execution_count": 8,
   "id": "31a806b2-6af6-4374-9744-653b67dedc14",
   "metadata": {},
   "outputs": [],
   "source": [
    "from configuration import utt_to_string\n",
    "\n",
    "results = []\n",
    "\n",
    "pragmatics_list = [\"pragmatic_uncertain\", \n",
    "                   \"pragmatic_misaligned_conservative\", \n",
    "                   \"pragmatic_misaligned_pedagogic\", \n",
    "                   \"pragmatic_aligned\"]\n",
    "\n",
    "for i, u in enumerate(utterances_to_use):\n",
    "    \n",
    "    for pragmatics in pragmatics_list:\n",
    "        \n",
    "        if pragmatics == \"pragmatic_uncertain\":\n",
    "            horizons = [1, 2, 4]\n",
    "        elif pragmatics == \"pragmatic_aligned\":\n",
    "            horizons = [u[\"horizon\"]]\n",
    "        elif pragmatics == \"pragmatic_misaligned_conservative\":\n",
    "            horizons = [1]\n",
    "        elif pragmatics == \"pragmatic_misaligned_pedagogic\":\n",
    "            horizons = [4]\n",
    "        \n",
    "        pragmatic = LearnerAgent.cache_pragmatic_thompson_sampling(exp_pragmatic_listener,\n",
    "                                                                   u[\"utt\"], u[\"action_context\"], \n",
    "                                                                   workerid=u['workerid'], unique_str=unique_str, \n",
    "                                                                   prior_var=prior_var, min_importance_samples=importance_samples,\n",
    "                                                                   n_iterations=n_iters, n_trials=n_trials,\n",
    "                                                                   horizons=horizons) # This changes\n",
    "        pragmatic[\"listener\"] = pragmatics\n",
    "\n",
    "        pragmatic[\"alphaS\"] = alphaS\n",
    "        pragmatic[\"horizon\"] = u[\"horizon\"]\n",
    "\n",
    "        for k in [\"color\", \"shape\", \"feature\", \"value\", \"type\"]:\n",
    "            pragmatic[k] = u[\"utt\"].get(k)\n",
    "\n",
    "        utt_str = utt_to_string(u[\"utt\"])\n",
    "        pragmatic[\"utt\"] = utt_str\n",
    "        pragmatic[\"utt_key\"] = f'{u[\"action_context\"]}-{utt_str}'\n",
    "\n",
    "        pragmatic[\"trial_iteration_key\"] = pragmatic[\"iteration\"].apply(lambda x: f'{u[\"action_context\"]}-{u[\"workerid\"]}-{x}')\n",
    "\n",
    "        pragmatic[\"random_effects_key\"] = f'{u[\"action_context\"]}-{u[\"workerid\"]}'\n",
    "        results.append(pragmatic)    "
   ]
  },
  {
   "cell_type": "markdown",
   "id": "034a6524-dffb-453d-afba-855d764001a0",
   "metadata": {},
   "source": [
    "## Literal"
   ]
  },
  {
   "cell_type": "code",
   "execution_count": 9,
   "id": "dca7f1f7-8f2a-4e55-8e5f-4fb9ed5c360a",
   "metadata": {},
   "outputs": [
    {
     "name": "stdout",
     "output_type": "stream",
     "text": [
      "Finished 5 iters on utterance 0.\n",
      "Finished 5 iters on utterance 500.\n",
      "Finished 5 iters on utterance 1000.\n",
      "Finished 5 iters on utterance 1500.\n",
      "Finished 5 iters on utterance 2000.\n",
      "Finished 5 iters on utterance 2500.\n"
     ]
    }
   ],
   "source": [
    "for i, u in enumerate(utterances_to_use):\n",
    "    \n",
    "    random_effects_key = f'{u[\"action_context\"]}-{u[\"workerid\"]}'\n",
    "        \n",
    "    literal = LearnerAgent.cache_literal_thompson_sampling(u[\"utt\"], unique_str=random_effects_key,\n",
    "                                                           n_iterations=n_iters, \n",
    "                                                           n_trials=n_trials, \n",
    "                                                           prior_var=prior_var,\n",
    "                                                           min_importance_samples=importance_samples,\n",
    "                                                           verbose=False)\n",
    "    \n",
    "    literal[\"listener\"] = \"literal\"\n",
    "    literal[\"utt\"] = utt_str\n",
    "\n",
    "    for k in [\"color\", \"shape\", \"feature\", \"value\", \"type\"]:\n",
    "        literal[k] = u.get(k)\n",
    "        \n",
    "    literal[\"trial_iteration_key\"] = literal[\"iteration\"].apply(lambda x: f'{u}-{x}')\n",
    "    literal['random_effects_key'] = random_effects_key\n",
    "    results.append(literal)  \n",
    "    \n",
    "    if i%500 == 0:\n",
    "        print(f'Finished {n_iters} iters on utterance {i}.')"
   ]
  },
  {
   "cell_type": "markdown",
   "id": "64b7261a-1132-4bd2-8ffa-8ffcbc24ce0d",
   "metadata": {},
   "source": [
    "## Individual Baseline"
   ]
  },
  {
   "cell_type": "code",
   "execution_count": 10,
   "id": "6329dda9-6008-4260-96b7-3004cd8492f8",
   "metadata": {},
   "outputs": [
    {
     "name": "stdout",
     "output_type": "stream",
     "text": [
      "Finished 5 iters on utterance 0.\n",
      "Finished 5 iters on utterance 500.\n",
      "Finished 5 iters on utterance 1000.\n",
      "Finished 5 iters on utterance 1500.\n",
      "Finished 5 iters on utterance 2000.\n",
      "Finished 5 iters on utterance 2500.\n"
     ]
    }
   ],
   "source": [
    "for i, u in enumerate(utterances_to_use):\n",
    "    \n",
    "    random_effects_key = f'{u[\"action_context\"]}-{u[\"workerid\"]}'\n",
    "    \n",
    "    individual_learning_results = LearnerAgent.cache_individual_thompson_sampling(n_iterations=n_iters,  \n",
    "                                                                                  n_trials=n_trials, \n",
    "                                                                                  prior_var=prior_var, \n",
    "                                                                                  unique_str=random_effects_key)\n",
    "    \n",
    "    individual_learning_results[\"listener\"] = \"individual\"\n",
    "        \n",
    "    individual_learning_results[\"trial_iteration_key\"] = literal[\"iteration\"].apply(lambda x: f'{u}-{x}')\n",
    "    individual_learning_results['random_effects_key'] = random_effects_key\n",
    "    results.append(individual_learning_results)  \n",
    "    \n",
    "    if i%500 == 0:\n",
    "        print(f'Finished {n_iters} iters on utterance {i}.')"
   ]
  },
  {
   "cell_type": "markdown",
   "id": "ba2f1682-ec6f-49c3-b785-00ead08a2da7",
   "metadata": {},
   "source": [
    "## Plot Results"
   ]
  },
  {
   "cell_type": "code",
   "execution_count": 12,
   "id": "1fa080c7-3012-466e-9bf7-048940a15b10",
   "metadata": {},
   "outputs": [],
   "source": [
    "results = pd.concat(results)\n",
    "results[\"horizon\"] = results.horizon.fillna(\"N/A\")"
   ]
  },
  {
   "cell_type": "code",
   "execution_count": 13,
   "id": "3713250a-319b-469c-acb9-a313d21bf1bb",
   "metadata": {},
   "outputs": [
    {
     "data": {
      "text/plain": [
       "listener\n",
       "individual                           2772.0\n",
       "literal                              2772.0\n",
       "pragmatic_aligned                    2772.0\n",
       "pragmatic_misaligned_conservative    2772.0\n",
       "pragmatic_misaligned_pedagogic       2772.0\n",
       "pragmatic_uncertain                  2772.0\n",
       "Name: trial_iteration_key, dtype: float64"
      ]
     },
     "execution_count": 13,
     "metadata": {},
     "output_type": "execute_result"
    }
   ],
   "source": [
    "# Should have 2772 * 5 trials for each listener\n",
    "results.groupby([\"listener\"]).trial_iteration_key.nunique() / 5"
   ]
  },
  {
   "cell_type": "code",
   "execution_count": 14,
   "id": "de91a024-c1e3-4754-b8ce-e5d6474bbf1b",
   "metadata": {},
   "outputs": [],
   "source": [
    "import copy \n",
    "\n",
    "to_plot = copy.deepcopy(results)"
   ]
  },
  {
   "cell_type": "code",
   "execution_count": 15,
   "id": "e7b3749f-2494-41bc-a9db-9b5a9d6d8503",
   "metadata": {},
   "outputs": [],
   "source": [
    "rename_dict = {\"pragmatic_uncertain\": \"Pragmatic - Latent $H$\", \"literal\": \"Literal Listener\", \"individual\": \"Individual Learner\"}\n",
    "to_plot = to_plot[to_plot.listener.isin(list(rename_dict.keys()))]\n",
    "\n",
    "to_plot[\"listener\"] = to_plot.listener.apply(lambda x: rename_dict.get(x, x))\n",
    "hue_order = [\"Pragmatic - Latent $H$\", \"Literal Listener\", \"Individual Learner\"]\n",
    "palette = ['green', 'black', 'gray']"
   ]
  },
  {
   "cell_type": "code",
   "execution_count": 16,
   "id": "e1554760-40af-4544-80ee-698ec24da5b6",
   "metadata": {},
   "outputs": [
    {
     "data": {
      "text/plain": [
       "Text(0.5, 0, 'Individual Learning Actions')"
      ]
     },
     "execution_count": 16,
     "metadata": {},
     "output_type": "execute_result"
    },
    {
     "data": {
      "image/png": "[encoded data removed]",
      "text/plain": [
       "<Figure size 432x288 with 1 Axes>"
      ]
     },
     "metadata": {
      "needs_background": "light"
     },
     "output_type": "display_data"
    }
   ],
   "source": [
    "sns.lineplot(data=to_plot, x='trial', y='future_rewards', hue='listener', hue_order=hue_order, palette=palette,\n",
    "             linewidth=3, alpha=.6)\n",
    "\n",
    "plt.ylim(.75, 1.8) \n",
    "plt.axhline(1.75, c='k', label=\"Optimal\", linestyle='--', linewidth=3, alpha=.6)\n",
    "plt.legend(loc='best', fontsize=15)\n",
    "\n",
    "ys = [1, 1.25, 1.5, 1.75]\n",
    "for y in ys:\n",
    "    plt.axhline(y, c='k', alpha=.2, linestyle='--', zorder=0)\n",
    "\n",
    "plt.yticks(ys, fontsize=15)\n",
    "plt.ylabel(\"Future Rewards\", fontsize=20)\n",
    "plt.xticks([1, 5, 10, 15, 20, 25], fontsize=15)\n",
    "plt.xlim(1, 25);\n",
    "plt.xlabel(\"Individual Learning Actions\", fontsize=20)\n",
    "\n",
    "# plt.xlim(.5, 15)"
   ]
  },
  {
   "cell_type": "code",
   "execution_count": 17,
   "id": "816f1633-6e70-4be1-8b2d-5e151fcb6063",
   "metadata": {},
   "outputs": [
    {
     "data": {
      "text/plain": [
       "<matplotlib.legend.Legend at 0x7f885efb3580>"
      ]
     },
     "execution_count": 17,
     "metadata": {},
     "output_type": "execute_result"
    },
    {
     "data": {
      "image/png": "[encoded data removed]",
      "text/plain": [
       "<Figure size 432x288 with 1 Axes>"
      ]
     },
     "metadata": {
      "needs_background": "light"
     },
     "output_type": "display_data"
    }
   ],
   "source": [
    "sns.lineplot(data=to_plot, x='trial', y='regret', hue='listener', hue_order=hue_order, palette=palette)\n",
    "\n",
    "ys=[0, .25, .5, .75, 1, 1.25, 1.5, 1.75]\n",
    "plt.yticks(ys, fontsize=15)\n",
    "for y in ys:\n",
    "    plt.axhline(y, c='k', alpha=.2, linestyle='--', zorder=0)\n",
    "\n",
    "plt.ylabel(\"Regret\", fontsize=20)\n",
    "plt.xticks([1, 5, 10, 15, 20, 25], fontsize=15)\n",
    "plt.xlim(1, 25);\n",
    "plt.xlabel(\"Individual Learning Actions\", fontsize=20)\n",
    "plt.legend(fontsize=18)"
   ]
  },
  {
   "cell_type": "markdown",
   "id": "9eb59d43-2287-4eef-8e70-b7db1390ddd2",
   "metadata": {},
   "source": [
    "## Summarize Results"
   ]
  },
  {
   "cell_type": "code",
   "execution_count": 18,
   "id": "9dafc3b7-4429-4120-beeb-33d274dad2cf",
   "metadata": {},
   "outputs": [],
   "source": [
    "results_to_summarize = results"
   ]
  },
  {
   "cell_type": "markdown",
   "id": "10e9cfd6-fbd4-4a53-ab5c-fe229edf5dd6",
   "metadata": {},
   "source": [
    "### Regret @ 25"
   ]
  },
  {
   "cell_type": "code",
   "execution_count": 19,
   "id": "cd004bf9-6b3f-481b-bb58-fed79c67fb1a",
   "metadata": {},
   "outputs": [],
   "source": [
    "regret_totals = results_to_summarize.groupby([\"listener\", \"trial_iteration_key\"])[\"regret\"].sum().reset_index()"
   ]
  },
  {
   "cell_type": "code",
   "execution_count": 20,
   "id": "ef87b0fd-bc36-45c2-a9c0-ccede94cc54e",
   "metadata": {},
   "outputs": [
    {
     "data": {
      "text/plain": [
       "listener\n",
       "individual                           12.14\n",
       "literal                              10.23\n",
       "pragmatic_aligned                     9.42\n",
       "pragmatic_misaligned_conservative     9.76\n",
       "pragmatic_misaligned_pedagogic        9.67\n",
       "pragmatic_uncertain                   9.55\n",
       "Name: regret, dtype: float64"
      ]
     },
     "execution_count": 20,
     "metadata": {},
     "output_type": "execute_result"
    }
   ],
   "source": [
    "regret_totals.groupby(\"listener\").regret.agg(np.mean).round(2)"
   ]
  },
  {
   "cell_type": "code",
   "execution_count": 21,
   "id": "81ced09a-760f-4bd6-a069-dc106ec283bf",
   "metadata": {},
   "outputs": [
    {
     "data": {
      "text/html": [
       "<div>\n",
       "<style scoped>\n",
       "    .dataframe tbody tr th:only-of-type {\n",
       "        vertical-align: middle;\n",
       "    }\n",
       "\n",
       "    .dataframe tbody tr th {\n",
       "        vertical-align: top;\n",
       "    }\n",
       "\n",
       "    .dataframe thead th {\n",
       "        text-align: right;\n",
       "    }\n",
       "</style>\n",
       "<table border=\"1\" class=\"dataframe\">\n",
       "  <thead>\n",
       "    <tr style=\"text-align: right;\">\n",
       "      <th></th>\n",
       "      <th>listener</th>\n",
       "      <th>trial_iteration_key</th>\n",
       "      <th>random_effects_key</th>\n",
       "      <th>regret</th>\n",
       "      <th>centered_regret</th>\n",
       "    </tr>\n",
       "  </thead>\n",
       "  <tbody>\n",
       "    <tr>\n",
       "      <th>0</th>\n",
       "      <td>individual</td>\n",
       "      <td>{'action_context': [{'color': 'blue', 'shape':...</td>\n",
       "      <td>[{'color': 'blue', 'shape': 'circle'}, {'color...</td>\n",
       "      <td>8</td>\n",
       "      <td>-2.128595</td>\n",
       "    </tr>\n",
       "    <tr>\n",
       "      <th>1</th>\n",
       "      <td>individual</td>\n",
       "      <td>{'action_context': [{'color': 'blue', 'shape':...</td>\n",
       "      <td>[{'color': 'blue', 'shape': 'circle'}, {'color...</td>\n",
       "      <td>8</td>\n",
       "      <td>-2.128595</td>\n",
       "    </tr>\n",
       "    <tr>\n",
       "      <th>2</th>\n",
       "      <td>individual</td>\n",
       "      <td>{'action_context': [{'color': 'blue', 'shape':...</td>\n",
       "      <td>[{'color': 'blue', 'shape': 'circle'}, {'color...</td>\n",
       "      <td>16</td>\n",
       "      <td>5.871405</td>\n",
       "    </tr>\n",
       "    <tr>\n",
       "      <th>3</th>\n",
       "      <td>individual</td>\n",
       "      <td>{'action_context': [{'color': 'blue', 'shape':...</td>\n",
       "      <td>[{'color': 'blue', 'shape': 'circle'}, {'color...</td>\n",
       "      <td>8</td>\n",
       "      <td>-2.128595</td>\n",
       "    </tr>\n",
       "    <tr>\n",
       "      <th>4</th>\n",
       "      <td>individual</td>\n",
       "      <td>{'action_context': [{'color': 'blue', 'shape':...</td>\n",
       "      <td>[{'color': 'blue', 'shape': 'circle'}, {'color...</td>\n",
       "      <td>27</td>\n",
       "      <td>16.871405</td>\n",
       "    </tr>\n",
       "    <tr>\n",
       "      <th>...</th>\n",
       "      <td>...</td>\n",
       "      <td>...</td>\n",
       "      <td>...</td>\n",
       "      <td>...</td>\n",
       "      <td>...</td>\n",
       "    </tr>\n",
       "    <tr>\n",
       "      <th>83155</th>\n",
       "      <td>pragmatic_uncertain</td>\n",
       "      <td>[{'color': 'red', 'shape': 'circle'}, {'color'...</td>\n",
       "      <td>[{'color': 'red', 'shape': 'circle'}, {'color'...</td>\n",
       "      <td>14</td>\n",
       "      <td>3.871405</td>\n",
       "    </tr>\n",
       "    <tr>\n",
       "      <th>83156</th>\n",
       "      <td>pragmatic_uncertain</td>\n",
       "      <td>[{'color': 'red', 'shape': 'circle'}, {'color'...</td>\n",
       "      <td>[{'color': 'red', 'shape': 'circle'}, {'color'...</td>\n",
       "      <td>10</td>\n",
       "      <td>-0.128595</td>\n",
       "    </tr>\n",
       "    <tr>\n",
       "      <th>83157</th>\n",
       "      <td>pragmatic_uncertain</td>\n",
       "      <td>[{'color': 'red', 'shape': 'circle'}, {'color'...</td>\n",
       "      <td>[{'color': 'red', 'shape': 'circle'}, {'color'...</td>\n",
       "      <td>16</td>\n",
       "      <td>5.871405</td>\n",
       "    </tr>\n",
       "    <tr>\n",
       "      <th>83158</th>\n",
       "      <td>pragmatic_uncertain</td>\n",
       "      <td>[{'color': 'red', 'shape': 'circle'}, {'color'...</td>\n",
       "      <td>[{'color': 'red', 'shape': 'circle'}, {'color'...</td>\n",
       "      <td>11</td>\n",
       "      <td>0.871405</td>\n",
       "    </tr>\n",
       "    <tr>\n",
       "      <th>83159</th>\n",
       "      <td>pragmatic_uncertain</td>\n",
       "      <td>[{'color': 'red', 'shape': 'circle'}, {'color'...</td>\n",
       "      <td>[{'color': 'red', 'shape': 'circle'}, {'color'...</td>\n",
       "      <td>15</td>\n",
       "      <td>4.871405</td>\n",
       "    </tr>\n",
       "  </tbody>\n",
       "</table>\n",
       "<p>83160 rows × 5 columns</p>\n",
       "</div>"
      ],
      "text/plain": [
       "                  listener                                trial_iteration_key  \\\n",
       "0               individual  {'action_context': [{'color': 'blue', 'shape':...   \n",
       "1               individual  {'action_context': [{'color': 'blue', 'shape':...   \n",
       "2               individual  {'action_context': [{'color': 'blue', 'shape':...   \n",
       "3               individual  {'action_context': [{'color': 'blue', 'shape':...   \n",
       "4               individual  {'action_context': [{'color': 'blue', 'shape':...   \n",
       "...                    ...                                                ...   \n",
       "83155  pragmatic_uncertain  [{'color': 'red', 'shape': 'circle'}, {'color'...   \n",
       "83156  pragmatic_uncertain  [{'color': 'red', 'shape': 'circle'}, {'color'...   \n",
       "83157  pragmatic_uncertain  [{'color': 'red', 'shape': 'circle'}, {'color'...   \n",
       "83158  pragmatic_uncertain  [{'color': 'red', 'shape': 'circle'}, {'color'...   \n",
       "83159  pragmatic_uncertain  [{'color': 'red', 'shape': 'circle'}, {'color'...   \n",
       "\n",
       "                                      random_effects_key  regret  \\\n",
       "0      [{'color': 'blue', 'shape': 'circle'}, {'color...       8   \n",
       "1      [{'color': 'blue', 'shape': 'circle'}, {'color...       8   \n",
       "2      [{'color': 'blue', 'shape': 'circle'}, {'color...      16   \n",
       "3      [{'color': 'blue', 'shape': 'circle'}, {'color...       8   \n",
       "4      [{'color': 'blue', 'shape': 'circle'}, {'color...      27   \n",
       "...                                                  ...     ...   \n",
       "83155  [{'color': 'red', 'shape': 'circle'}, {'color'...      14   \n",
       "83156  [{'color': 'red', 'shape': 'circle'}, {'color'...      10   \n",
       "83157  [{'color': 'red', 'shape': 'circle'}, {'color'...      16   \n",
       "83158  [{'color': 'red', 'shape': 'circle'}, {'color'...      11   \n",
       "83159  [{'color': 'red', 'shape': 'circle'}, {'color'...      15   \n",
       "\n",
       "       centered_regret  \n",
       "0            -2.128595  \n",
       "1            -2.128595  \n",
       "2             5.871405  \n",
       "3            -2.128595  \n",
       "4            16.871405  \n",
       "...                ...  \n",
       "83155         3.871405  \n",
       "83156        -0.128595  \n",
       "83157         5.871405  \n",
       "83158         0.871405  \n",
       "83159         4.871405  \n",
       "\n",
       "[83160 rows x 5 columns]"
      ]
     },
     "execution_count": 21,
     "metadata": {},
     "output_type": "execute_result"
    }
   ],
   "source": [
    "### Export to R\n",
    "for_r = results_to_summarize.groupby([\"listener\", \"trial_iteration_key\", \"random_effects_key\"]).regret.sum().reset_index()\n",
    "for_r[\"centered_regret\"] = for_r.regret - for_r.regret.mean()\n",
    "\n",
    "for_r"
   ]
  },
  {
   "cell_type": "code",
   "execution_count": 22,
   "id": "a8cd5bb4-639c-40a3-a41c-28be5e266317",
   "metadata": {},
   "outputs": [],
   "source": [
    "for_r.to_csv(\"regret_results_for_r.csv\", index=False)"
   ]
  },
  {
   "cell_type": "markdown",
   "id": "3b1a0e50-704a-48d4-8296-aab4e52e4871",
   "metadata": {},
   "source": [
    "# Simulation Details"
   ]
  },
  {
   "cell_type": "markdown",
   "id": "72d9d32f-9171-4ab4-96b9-eb9b9d223d49",
   "metadata": {},
   "source": [
    "\n",
    "## Gaussian Prior\n",
    "How wide should initial variance be?\n",
    "\n",
    "First, we want this to be large in order to approximate a uniform on the interval [-2, 2]  \n",
    "However, for importance-sampling we need to sample from it and stay within the (-2.5, 2.5) range.\n",
    "\n",
    "With variance=5 and 6 dimensions, we should get 66% of samples within (-2.5, 2.5) which means .66^6 ~~ 8% of our initial samples will be accepted."
   ]
  },
  {
   "cell_type": "code",
   "execution_count": 23,
   "id": "63511ad8-b642-4bff-86d1-73a7888a8458",
   "metadata": {},
   "outputs": [
    {
     "name": "stdout",
     "output_type": "stream",
     "text": [
      "Interval of (-2.1335783678031857, 2.133578367803187) --> acceptance of 0.08265395001600002.\n"
     ]
    }
   ],
   "source": [
    "from scipy.stats import norm\n",
    "import math\n",
    "\n",
    "variance = 5\n",
    "\n",
    "interval = norm.interval(.66, loc=0, scale=math.sqrt(variance))\n",
    "acceptance = .66**6\n",
    "\n",
    "print(f'Interval of {interval} --> acceptance of {acceptance}.')"
   ]
  }
 ],
 "metadata": {
  "kernelspec": {
   "display_name": "Python 3 (ipykernel)",
   "language": "python",
   "name": "python3"
  },
  "language_info": {
   "codemirror_mode": {
    "name": "ipython",
    "version": 3
   },
   "file_extension": ".py",
   "mimetype": "text/x-python",
   "name": "python",
   "nbconvert_exporter": "python",
   "pygments_lexer": "ipython3",
   "version": "3.9.12"
  }
 },
 "nbformat": 4,
 "nbformat_minor": 5
}
